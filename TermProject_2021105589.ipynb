{
 "cells": [
  {
   "cell_type": "markdown",
   "metadata": {},
   "source": [
    "# 1. 주제 선정 이유"
   ]
  },
  {
   "cell_type": "markdown",
   "metadata": {},
   "source": [
    "최근 코로나 바이러스 감염증-19(COVID-19, 이하 코로나19)의 확진자가 늘어났다가 줄어들었다가를 반복하고 있는 한편, 백신(예방접종) 투약이 이뤄지기 시작하였습니다.\n",
    "\n",
    "이러한 속도로 보았을 때에, 집단 면역이 이루어질 때가 언제일지 궁금하였습니다.\n",
    "\n",
    "물론, 일반적인 뉴스에서 찾아보는 정보로는 [11월에 우리나라에서 집단 면역이 이루어질 것](https://www.news1.kr/articles/?4285537)이라 예상하지만, 이를 스스로도 예상해보고 싶어서 이러한 주제를 선정하게 되었습니다.\n",
    "\n",
    "국가 간의 외교, 바이러스의 변종 등의 요소는 선택한 데이터들에 들어있지 않기에 예상 결과가 일반적인 예상인 11월과는 조금 달라질 것입니다.\n",
    "\n",
    "하지만 스스로 만들어보는 것에 의의를 두고, 열심히 만들어보겠습니다."
   ]
  },
  {
   "cell_type": "markdown",
   "metadata": {},
   "source": [
    "# 2. 주제 정의"
   ]
  },
  {
   "cell_type": "markdown",
   "metadata": {},
   "source": [
    "공공데이터포털의 [공공데이터활용지원센터_코로나19 예방접종 통계 데이터 조회 서비스](https://www.data.go.kr/data/15077756/openapi.do)와 [보건복지부_코로나19 시·도발생_현황](https://www.data.go.kr/data/15043378/openapi.do) 를 통해 프로그램을 시작할 때마다 데이터를 불러와서, 항상 최신의 데이터를 사용하여 집단 면역이 이루어지는 시기를 예측합니다.\n",
    "\n",
    "집단 면역의 기준은, [WHO](https://www.who.int/news-room/q-a-detail/herd-immunity-lockdowns-and-covid-19)에 따르면 일반적인 기준은 없고 질병마다 다르다고 하며, 그에 대한 예시로 홍역은 약 95%가 백신을, 소아마비는 약 80%가 백신을 맞아야 집단 면역이 이루어진다고 합니다.\n",
    "\n",
    "[이 기사](https://www.nytimes.com/2020/12/24/health/herd-immunity-covid-coronavirus.html)를 참고하면, 코로나19의 집단 면역 기준은 바이러스 시작 쯤에 나온 예상 수치인 60~70%는 현 상황에서는 낮으며, 약 85% 이상이 되어야 한다고 전문가들은 주장합니다.\n",
    "\n",
    "따라서, 아직 코로나19의 집단 면역 기준이 확실하지 않기 때문에, 예상 수치는 70%부터 5%씩 올려서 95%까지 확인해 볼 것입니다."
   ]
  },
  {
   "cell_type": "markdown",
   "metadata": {},
   "source": [
    "# 3. 인터넷을 통한 데이터의 획득"
   ]
  },
  {
   "cell_type": "code",
   "execution_count": 1,
   "metadata": {},
   "outputs": [],
   "source": [
    "debugPrint = False"
   ]
  },
  {
   "cell_type": "markdown",
   "metadata": {},
   "source": [
    "`requests` 모듈을 사용하여 API로부터 데이터를 가져올 것입니다.<br>"
   ]
  },
  {
   "cell_type": "code",
   "execution_count": 2,
   "metadata": {},
   "outputs": [],
   "source": [
    "import requests\n",
    "api_key = \"myaCBEk1XX8eSIOiKYJOj5ksB%2BRl%2BxYCJVn2eaWckckSQnQt8gu6lU2HBqSP5Hsx6Gd8uXpXowCPRTjGJ5yDsw%3D%3D\""
   ]
  },
  {
   "cell_type": "markdown",
   "metadata": {},
   "source": [
    "`datetime` 모듈을 사용하여 어제의 날짜를 구하고, 요청변수의 형식에 맞게 변환합니다.<br>"
   ]
  },
  {
   "cell_type": "code",
   "execution_count": 3,
   "metadata": {},
   "outputs": [],
   "source": [
    "import datetime\n",
    "\n",
    "# 2021년 3월 11일부터 가능.\n",
    "# 백신 API가 위 날짜부터 제공되기 때문에.\n",
    "startDate = datetime.datetime(2021, 3, 11)\n",
    "today = datetime.datetime.today()\n",
    "\n",
    "covid19InfStateRequestStartDate =  startDate.strftime(\"%Y%m%d\")\n",
    "covid19InfStateRequestEndDate = today.strftime(\"%Y%m%d\")\n",
    "if debugPrint:\n",
    "    print(covid19InfStateRequestStartDate, covid19InfStateRequestEndDate)\n",
    "\n",
    "vaccineStateRequestStartDate = startDate.strftime(\"%Y-%m-%d\") + \" 00:00:00\"\n",
    "vaccineStateRequestEndDate = today.strftime(\"%Y-%m-%d\") + \" 00:00:00\"\n",
    "if debugPrint:\n",
    "    print(vaccineStateRequestStartDate, vaccineStateRequestEndDate)"
   ]
  },
  {
   "cell_type": "markdown",
   "metadata": {},
   "source": [
    "[보건복지부_코로나19 시·도발생_현황](https://www.data.go.kr/data/15043378/openapi.do)에서 데이터를 불러오고 있습니다.<br>\n",
    "데이터의 형태는 XML이고, 필요없는 데이터도 몇 섞여있기에 가공할 필요가 있습니다.\n",
    "\n",
    "해당 데이터의 요청변수는 아래와 같습니다.\n",
    "\n",
    "| 키 이름 | 항목 크기 | 항목 구분 | 항목 설명 | 입력 예시 |\n",
    "| :- | :-: | :-: | :- | :- |\n",
    "| serviceKey | 4 | 필수 | 공공 데이터 포털에서 받은 인증키 | - |\n",
    "| pageNo | 4 | 옵션 | 페이지 번호 | 1 |\n",
    "| numOfRows | 4 | 옵션 | 한 페이지의 결과 수 | 10 |\n",
    "| startCreateDt | 30 | 옵션 | 검색할 생성일 범위의 시작| 20210420 |\n",
    "| endCreateDt | 15 | 옵션 | 검색할 생성일 범위의 종료 | 20210425 |"
   ]
  },
  {
   "cell_type": "code",
   "execution_count": 4,
   "metadata": {},
   "outputs": [],
   "source": [
    "def loadCovid19InfState(startDate, endDate, pageNo=1, numOfRows=10):\n",
    "    url = \"http://openapi.data.go.kr/openapi/service/rest/Covid19/getCovid19SidoInfStateJson\"\n",
    "    url = url + \"?serviceKey=\" + api_key\n",
    "    \n",
    "    if pageNo != None:\n",
    "        url = url + \"&pageNo=\" + str(pageNo)\n",
    "    if numOfRows != None:\n",
    "        url = url + \"&numOfRows=\" + str(numOfRows)\n",
    "    if startDate != None:\n",
    "        url = url + \"&startCreateDt=\" + str(startDate)\n",
    "    if endDate != None:\n",
    "        url = url + \"&endCreateDt=\" + str(endDate)\n",
    "    return requests.get(url)"
   ]
  },
  {
   "cell_type": "code",
   "execution_count": 5,
   "metadata": {
    "scrolled": true
   },
   "outputs": [],
   "source": [
    "covid19InfStateResponse = loadCovid19InfState(startDate=covid19InfStateRequestStartDate, endDate=covid19InfStateRequestEndDate)\n",
    "if debugPrint:\n",
    "    print(covid19InfStateResponse.text)"
   ]
  },
  {
   "cell_type": "markdown",
   "metadata": {},
   "source": [
    "[공공데이터활용지원센터_코로나19 예방접종 통계 데이터 조회 서비스](https://www.data.go.kr/data/15077756/openapi.do)에서 데이터를 불러오고 있습니다.<br>\n",
    "데이터의 형태는 JSON 이고, 필요없는 데이터도 몇 섞여있기에 가공할 필요가 있습니다.\n",
    "\n",
    "현재 해당 API호출에서 `{\"code\":-4,\"msg\":\"등록되지 않은 인증키 입니다.\"}` 라는 대답만 돌아오고 있습니다.<br>\n",
    "여러 방법을 사용해보았으나 문제가 해결되지 않아, 문의 메일을 보내놓고 기다리고 있는 상태입니다.\n",
    "\n",
    "대답을 받았고, 인코딩 및 디코딩의 문제였습니다. 현재 시점에는 해결되었습니다.\n",
    "\n",
    "해당 데이터의 요청변수는 아래와 같습니다.\n",
    "\n",
    "| 키 이름 | 항목 타입 | 항목 구분 | 항목 설명 | 입력 예시 |\n",
    "| :- | :-: | :-: | :- | :- |\n",
    "| serviceKey | string | 필수 | 공공 데이터 포털에서 받은 인증키 | - |\n",
    "| page | int64 | 필수 | 페이지 번호 | 1 |\n",
    "| perPage | int64 | 필수 | 한 페이지의 결과 수 | 10 |\n",
    "| returnType | string | 선택 | 응답의 데이터 타입 (JSON or XML) (기본값 : JSON) | JSON |\n",
    "| cond[baseDate::EQ] | string | 선택 | 요청 일자와 같은 일자의 통계를 가져옴 | 2021-04-25 00:00:00 |\n",
    "| cond[baseDate::LT]] | string | 선택 | 요청 일자 이전의 통계를 가져옴 | 2021-04-25 00:00:00 |\n",
    "| cond[baseDate::LTE] | string | 선택 | 요청 일자 이전이거나 같은 일자의 통계를 가져옴 | 2021-04-25 00:00:00 |\n",
    "| cond[baseDate::GT] | string | 선택 | 요청 일자 이후의 통계를 가져옴 | 2021-04-25 00:00:00 |\n",
    "| cond[baseDate::GTE] | string | 선택 | 요청 일자 이후거나 같은 일자의 통계를 가져옴 | 2021-04-25 00:00:00 |\n",
    "| cond[sido::EQ] | string | 선택 | 지역명칭(시도명) | 서울특별시 |"
   ]
  },
  {
   "cell_type": "code",
   "execution_count": 6,
   "metadata": {},
   "outputs": [],
   "source": [
    "class DateQueryConditionType:\n",
    "    EQUAL = 1 # 같을 때\n",
    "    BEFORE = 2 # 이전\n",
    "    BEFORE_EQUAL = 3 # 이전이거나 같을 때\n",
    "    AFTER = 4 # 이후\n",
    "    AFTER_EQUAL = 5 # 이후거나 같을 때\n",
    "    \n",
    "    @classmethod\n",
    "    def toString(cls, condType):\n",
    "        '''\n",
    "        int -> string\n",
    "        쿼리 사용을 위해 조건 값을 문자열로 변환한다.\n",
    "        '''\n",
    "        if condType == cls.EQUAL:\n",
    "            return \"cond[baseDate::EQ]\"\n",
    "        elif condType == cls.BEFORE:\n",
    "            return \"cond[baseDate::LT]\"\n",
    "        elif condType == cls.BEFORE_EQUAL:\n",
    "            return \"cond[baseDate::LTE]\"\n",
    "        elif condType == cls.AFTER:\n",
    "            return \"cond[baseDate::GT]\"\n",
    "        elif condType == cls.AFTER_EQUAL:\n",
    "            return \"cond[baseDate::GTE]\"\n",
    "        return \"UNDEFINED\"\n",
    "\n",
    "class VaccineDateQueryCondition:\n",
    "    def __init__(self, date, condType):\n",
    "        self.date = date\n",
    "        self.condType = condType\n",
    "\n",
    "def loadVaccineState(page=1, perPage=10, dateConds=[], sido=\"전국\"):\n",
    "    if not type(dateConds) is list:\n",
    "        print('Error: dateConds 가 리스트가 아닙니다.')\n",
    "        return None\n",
    "    \n",
    "    url = \"https://api.odcloud.kr/api/15077756/v1/vaccine-stat?\"\n",
    "    url = url + f\"serviceKey={api_key}&page={page}&perPage={perPage}\" # 기본 쿼리 데이터 추가\n",
    "    \n",
    "    for dateCond in dateConds: # 날짜 쿼리 데이터 추가\n",
    "        condStr = DateQueryConditionType.toString(dateCond.condType)\n",
    "        url = url + f\"&{condStr}={dateCond.date}\"\n",
    "    \n",
    "    if sido != None: # 시도 쿼리 데이터 추가\n",
    "        url = url + f\"&cond[sido::EQ]={sido}\"\n",
    "    return requests.get(url)"
   ]
  },
  {
   "cell_type": "code",
   "execution_count": 7,
   "metadata": {
    "scrolled": true
   },
   "outputs": [],
   "source": [
    "dateConds = []\n",
    "dateConds.append(VaccineDateQueryCondition(vaccineStateRequestStartDate, DateQueryConditionType.AFTER_EQUAL))\n",
    "dateConds.append(VaccineDateQueryCondition(vaccineStateRequestEndDate, DateQueryConditionType.BEFORE_EQUAL))\n",
    "vaccineStateResponse = loadVaccineState(dateConds=dateConds, perPage=100)\n",
    "if debugPrint:\n",
    "    print(vaccineStateResponse.text)"
   ]
  },
  {
   "cell_type": "markdown",
   "metadata": {},
   "source": [
    "# 4. 분석을 위한 데이터의 가공"
   ]
  },
  {
   "cell_type": "markdown",
   "metadata": {},
   "source": [
    "위에서 기술했듯이, 각 데이터에는 분석에 필요하지 않은 데이터가 있습니다.<br>\n",
    "파이썬에서 쓰기 편하게 각 항목을 클래스를 이용하여 하나로 묶으면서 필요하지 않은 데이터를 버리도록 하겠습니다.\n",
    "\n",
    "[보건복지부_코로나19 시·도발생_현황](https://www.data.go.kr/data/15043378/openapi.do)에서는 아이디 값, 기준일시, 총 확진자 수, 격리 중인 총 환자 수, 격리 해제된 총 환자 수, 총 사망자 수, 당일 지역발생 수를 하나의 클래스로 묶었습니다.\n",
    "\n",
    "[공공데이터활용지원센터_코로나19 예방접종 통계 데이터 조회 서비스](https://www.data.go.kr/data/15077756/openapi.do)에서는 아이디 값, 기준일시, 당일 1차 접종자 수, 당일 2차 접종자 수, 총합 1차 접종자 수, 총합 2차 접종자 수를 하나의 클래스로 묶었습니다."
   ]
  },
  {
   "cell_type": "code",
   "execution_count": 8,
   "metadata": {},
   "outputs": [],
   "source": [
    "class Covid19InfState:\n",
    "    def __init__(self, baseDate, infections, isolations, released, death, local_occur):\n",
    "        self.baseDate = baseDate # 기준일시\n",
    "        self.infections = int(infections) # 총 확진자 수\n",
    "        self.isolations = int(isolations) # 격리 중인 총 환자 수\n",
    "        self.released = int(released) # 격리 해제된 총 환자 수\n",
    "        self.death = int(death) # 총 사망자 수\n",
    "        self.local_occur = int(local_occur) # 당일 지역발생 수\n",
    "    \n",
    "    def __str__(self):\n",
    "        return f'{{baseDate={self.baseDate}, infections={self.infections}, isolations={self.isolations}, released={self.released}, death={self.death}, local_occur={self.local_occur}}}'\n",
    "\n",
    "class VaccineState:\n",
    "    def __init__(self, baseDate, totalPrimaryVaccination, totalSecondaryVaccination):\n",
    "        self.baseDate = baseDate # 기준일시\n",
    "        self.totalPrimaryVaccination = int(totalPrimaryVaccination) # 총합 1차 접종자 수\n",
    "        self.totalSecondaryVaccination = int(totalSecondaryVaccination) # 총합 2차 접종자 수\n",
    "    \n",
    "    def __str__(self):\n",
    "        return f'{{baseDate={self.baseDate}, totalPV={self.totalPrimaryVaccination}, totalSV={self.totalSecondaryVaccination}}}'\n",
    "    "
   ]
  },
  {
   "cell_type": "markdown",
   "metadata": {},
   "source": [
    "코로나19 발생 현황 데이터를 위에서 만든 `Covid19InfState` 클래스에 맞춰서 넣기 위해 XML을 파싱하고, 객체를 생성하여 리스트에 넣습니다."
   ]
  },
  {
   "cell_type": "code",
   "execution_count": 9,
   "metadata": {
    "scrolled": false
   },
   "outputs": [],
   "source": [
    "import xml.etree.ElementTree as elemTree\n",
    "\n",
    "covid19InfStateList = []\n",
    "\n",
    "tree = elemTree.fromstring(covid19InfStateResponse.text) # XML\n",
    "items = tree.find('./body/items')\n",
    "\n",
    "for item in items.findall('item'):\n",
    "    gubun = item.find('gubun').text\n",
    "    if gubun == '합계':\n",
    "        baseDate = item.find('stdDay').text\n",
    "        infections = item.find('defCnt').text\n",
    "        isolations = item.find('isolIngCnt').text\n",
    "        released = item.find('isolClearCnt').text\n",
    "        death = item.find('deathCnt').text\n",
    "        local_occur = item.find('localOccCnt').text\n",
    "        \n",
    "        newCovid19InfState = Covid19InfState(baseDate, infections, isolations, released, death, local_occur)\n",
    "        if debugPrint:\n",
    "            print(newCovid19InfState)\n",
    "        \n",
    "        covid19InfStateList.insert(0, newCovid19InfState)"
   ]
  },
  {
   "cell_type": "markdown",
   "metadata": {},
   "source": [
    "코로나19 예방접종 현황 데이터를 위에서 만든 `VaccineState` 클래스에 맞춰서 넣기 위해 JSON을 파싱하고, 객체를 생성하여 리스트에 넣습니다."
   ]
  },
  {
   "cell_type": "code",
   "execution_count": 10,
   "metadata": {
    "scrolled": false
   },
   "outputs": [],
   "source": [
    "import json\n",
    "\n",
    "vaccineStateList = []\n",
    "\n",
    "jsonObject = json.loads(vaccineStateResponse.text) # JSON\n",
    "dataList = jsonObject.get(\"data\")\n",
    "\n",
    "for idx, data in enumerate(dataList):\n",
    "    baseDate = data.get(\"baseDate\")\n",
    "    totalPV = data.get(\"totalFirstCnt\")\n",
    "    totalSV = data.get(\"totalSecondCnt\")\n",
    "    \n",
    "    newVaccineState = VaccineState(baseDate, totalPV, totalSV)\n",
    "    if debugPrint:\n",
    "        print(newVaccineState)\n",
    "    \n",
    "    vaccineStateList.append(newVaccineState)"
   ]
  },
  {
   "cell_type": "markdown",
   "metadata": {},
   "source": [
    "데이터 분석을 더 쉽게 하기 위해 `Pandas`를 사용합니다."
   ]
  },
  {
   "cell_type": "code",
   "execution_count": 11,
   "metadata": {},
   "outputs": [],
   "source": [
    "import pandas as pd"
   ]
  },
  {
   "cell_type": "code",
   "execution_count": 12,
   "metadata": {},
   "outputs": [],
   "source": [
    "covid19InfStateDict = dict()\n",
    "\n",
    "covid19InfStateDict['BaseDate'] = []\n",
    "covid19InfStateDict['Infections'] = []\n",
    "covid19InfStateDict['Isolations'] = []\n",
    "covid19InfStateDict['Released'] = []\n",
    "covid19InfStateDict['Death'] = []\n",
    "covid19InfStateDict['Local_Occur'] = []\n",
    "\n",
    "for state in covid19InfStateList:\n",
    "    rawDate = state.baseDate\n",
    "    formattedDate = rawDate[0:4] + rawDate[6:8] + rawDate[10:12]\n",
    "    \n",
    "    covid19InfStateDict['BaseDate'].append(formattedDate)\n",
    "    covid19InfStateDict['Infections'].append(state.infections)\n",
    "    covid19InfStateDict['Isolations'].append(state.isolations)\n",
    "    covid19InfStateDict['Released'].append(state.released)\n",
    "    covid19InfStateDict['Death'].append(state.death)\n",
    "    covid19InfStateDict['Local_Occur'].append(state.local_occur)\n",
    "\n",
    "covid19InfStateDataFrame = pd.DataFrame(covid19InfStateDict)\n",
    "\n",
    "if debugPrint:\n",
    "    print(covid19InfStateDataFrame)"
   ]
  },
  {
   "cell_type": "code",
   "execution_count": 13,
   "metadata": {},
   "outputs": [],
   "source": [
    "vaccineStateDict = dict()\n",
    "\n",
    "vaccineStateDict['BaseDate'] = []\n",
    "vaccineStateDict['TotalPV'] = []\n",
    "vaccineStateDict['TotalSV'] = []\n",
    "\n",
    "for state in vaccineStateList:\n",
    "    rawDate = state.baseDate\n",
    "    formattedDate = rawDate[0:4] + rawDate[5:7] + rawDate[8:10]\n",
    "    \n",
    "    vaccineStateDict['BaseDate'].append(formattedDate)\n",
    "    vaccineStateDict['TotalPV'].append(state.totalPrimaryVaccination)\n",
    "    vaccineStateDict['TotalSV'].append(state.totalSecondaryVaccination)\n",
    "\n",
    "vaccineStateDataFrame = pd.DataFrame(vaccineStateDict)\n",
    "\n",
    "if debugPrint:\n",
    "    print(vaccineStateDataFrame)"
   ]
  },
  {
   "cell_type": "markdown",
   "metadata": {},
   "source": [
    "만들어진 `DataFrame`의 정보입니다."
   ]
  },
  {
   "cell_type": "code",
   "execution_count": 14,
   "metadata": {},
   "outputs": [
    {
     "name": "stdout",
     "output_type": "stream",
     "text": [
      "<class 'pandas.core.frame.DataFrame'>\n",
      "RangeIndex: 85 entries, 0 to 84\n",
      "Data columns (total 6 columns):\n",
      " #   Column       Non-Null Count  Dtype \n",
      "---  ------       --------------  ----- \n",
      " 0   BaseDate     85 non-null     object\n",
      " 1   Infections   85 non-null     int64 \n",
      " 2   Isolations   85 non-null     int64 \n",
      " 3   Released     85 non-null     int64 \n",
      " 4   Death        85 non-null     int64 \n",
      " 5   Local_Occur  85 non-null     int64 \n",
      "dtypes: int64(5), object(1)\n",
      "memory usage: 4.1+ KB\n"
     ]
    }
   ],
   "source": [
    "covid19InfStateDataFrame.info()"
   ]
  },
  {
   "cell_type": "code",
   "execution_count": 15,
   "metadata": {
    "scrolled": false
   },
   "outputs": [
    {
     "name": "stdout",
     "output_type": "stream",
     "text": [
      "<class 'pandas.core.frame.DataFrame'>\n",
      "RangeIndex: 85 entries, 0 to 84\n",
      "Data columns (total 3 columns):\n",
      " #   Column    Non-Null Count  Dtype \n",
      "---  ------    --------------  ----- \n",
      " 0   BaseDate  85 non-null     object\n",
      " 1   TotalPV   85 non-null     int64 \n",
      " 2   TotalSV   85 non-null     int64 \n",
      "dtypes: int64(2), object(1)\n",
      "memory usage: 2.1+ KB\n"
     ]
    }
   ],
   "source": [
    "vaccineStateDataFrame.info()"
   ]
  },
  {
   "cell_type": "markdown",
   "metadata": {},
   "source": [
    "하나의 `DataFrame`으로 만듭니다."
   ]
  },
  {
   "cell_type": "code",
   "execution_count": 16,
   "metadata": {
    "scrolled": false
   },
   "outputs": [
    {
     "name": "stdout",
     "output_type": "stream",
     "text": [
      "<class 'pandas.core.frame.DataFrame'>\n",
      "Int64Index: 85 entries, 0 to 84\n",
      "Data columns (total 8 columns):\n",
      " #   Column       Non-Null Count  Dtype \n",
      "---  ------       --------------  ----- \n",
      " 0   BaseDate     85 non-null     object\n",
      " 1   Infections   85 non-null     int64 \n",
      " 2   Isolations   85 non-null     int64 \n",
      " 3   Released     85 non-null     int64 \n",
      " 4   Death        85 non-null     int64 \n",
      " 5   Local_Occur  85 non-null     int64 \n",
      " 6   TotalPV      85 non-null     int64 \n",
      " 7   TotalSV      85 non-null     int64 \n",
      "dtypes: int64(7), object(1)\n",
      "memory usage: 6.0+ KB\n"
     ]
    }
   ],
   "source": [
    "infoDF = pd.merge(covid19InfStateDataFrame, vaccineStateDataFrame, on='BaseDate')\n",
    "infoDF.info()"
   ]
  },
  {
   "cell_type": "markdown",
   "metadata": {},
   "source": [
    "`BaseDate`열의 타입이 `object`입니다.<br>\n",
    "타입이 `object`일 때는 제대로 처리되지 않습니닫. 이를 처리할 수 있도록, 날짜 타입인 `datetime`으로 변환해줍니다."
   ]
  },
  {
   "cell_type": "code",
   "execution_count": 17,
   "metadata": {},
   "outputs": [
    {
     "name": "stdout",
     "output_type": "stream",
     "text": [
      "<class 'pandas.core.frame.DataFrame'>\n",
      "Int64Index: 85 entries, 0 to 84\n",
      "Data columns (total 8 columns):\n",
      " #   Column       Non-Null Count  Dtype         \n",
      "---  ------       --------------  -----         \n",
      " 0   BaseDate     85 non-null     datetime64[ns]\n",
      " 1   Infections   85 non-null     int64         \n",
      " 2   Isolations   85 non-null     int64         \n",
      " 3   Released     85 non-null     int64         \n",
      " 4   Death        85 non-null     int64         \n",
      " 5   Local_Occur  85 non-null     int64         \n",
      " 6   TotalPV      85 non-null     int64         \n",
      " 7   TotalSV      85 non-null     int64         \n",
      "dtypes: datetime64[ns](1), int64(7)\n",
      "memory usage: 6.0 KB\n"
     ]
    }
   ],
   "source": [
    "infoDF['BaseDate'] = pd.to_datetime(infoDF['BaseDate'], format=\"%Y%m%d\")\n",
    "infoDF.info()"
   ]
  },
  {
   "cell_type": "code",
   "execution_count": 18,
   "metadata": {
    "scrolled": false
   },
   "outputs": [
    {
     "data": {
      "text/html": [
       "<div>\n",
       "<style scoped>\n",
       "    .dataframe tbody tr th:only-of-type {\n",
       "        vertical-align: middle;\n",
       "    }\n",
       "\n",
       "    .dataframe tbody tr th {\n",
       "        vertical-align: top;\n",
       "    }\n",
       "\n",
       "    .dataframe thead th {\n",
       "        text-align: right;\n",
       "    }\n",
       "</style>\n",
       "<table border=\"1\" class=\"dataframe\">\n",
       "  <thead>\n",
       "    <tr style=\"text-align: right;\">\n",
       "      <th></th>\n",
       "      <th>BaseDate</th>\n",
       "      <th>Infections</th>\n",
       "      <th>Isolations</th>\n",
       "      <th>Released</th>\n",
       "      <th>Death</th>\n",
       "      <th>Local_Occur</th>\n",
       "      <th>TotalPV</th>\n",
       "      <th>TotalSV</th>\n",
       "    </tr>\n",
       "  </thead>\n",
       "  <tbody>\n",
       "    <tr>\n",
       "      <th>0</th>\n",
       "      <td>2021-03-11</td>\n",
       "      <td>94198</td>\n",
       "      <td>7871</td>\n",
       "      <td>84675</td>\n",
       "      <td>1652</td>\n",
       "      <td>444</td>\n",
       "      <td>500635</td>\n",
       "      <td>0</td>\n",
       "    </tr>\n",
       "    <tr>\n",
       "      <th>1</th>\n",
       "      <td>2021-03-12</td>\n",
       "      <td>94686</td>\n",
       "      <td>7281</td>\n",
       "      <td>85743</td>\n",
       "      <td>1662</td>\n",
       "      <td>467</td>\n",
       "      <td>546277</td>\n",
       "      <td>0</td>\n",
       "    </tr>\n",
       "    <tr>\n",
       "      <th>2</th>\n",
       "      <td>2021-03-13</td>\n",
       "      <td>95176</td>\n",
       "      <td>6884</td>\n",
       "      <td>86625</td>\n",
       "      <td>1667</td>\n",
       "      <td>474</td>\n",
       "      <td>583658</td>\n",
       "      <td>0</td>\n",
       "    </tr>\n",
       "    <tr>\n",
       "      <th>3</th>\n",
       "      <td>2021-03-14</td>\n",
       "      <td>95635</td>\n",
       "      <td>6558</td>\n",
       "      <td>87408</td>\n",
       "      <td>1669</td>\n",
       "      <td>436</td>\n",
       "      <td>587884</td>\n",
       "      <td>0</td>\n",
       "    </tr>\n",
       "    <tr>\n",
       "      <th>4</th>\n",
       "      <td>2021-03-15</td>\n",
       "      <td>96011</td>\n",
       "      <td>6582</td>\n",
       "      <td>87754</td>\n",
       "      <td>1675</td>\n",
       "      <td>367</td>\n",
       "      <td>588958</td>\n",
       "      <td>0</td>\n",
       "    </tr>\n",
       "    <tr>\n",
       "      <th>...</th>\n",
       "      <td>...</td>\n",
       "      <td>...</td>\n",
       "      <td>...</td>\n",
       "      <td>...</td>\n",
       "      <td>...</td>\n",
       "      <td>...</td>\n",
       "      <td>...</td>\n",
       "      <td>...</td>\n",
       "    </tr>\n",
       "    <tr>\n",
       "      <th>80</th>\n",
       "      <td>2021-05-30</td>\n",
       "      <td>139910</td>\n",
       "      <td>7572</td>\n",
       "      <td>130381</td>\n",
       "      <td>1957</td>\n",
       "      <td>464</td>\n",
       "      <td>5399015</td>\n",
       "      <td>2143293</td>\n",
       "    </tr>\n",
       "    <tr>\n",
       "      <th>81</th>\n",
       "      <td>2021-05-31</td>\n",
       "      <td>140340</td>\n",
       "      <td>7558</td>\n",
       "      <td>130823</td>\n",
       "      <td>1959</td>\n",
       "      <td>411</td>\n",
       "      <td>5403854</td>\n",
       "      <td>2143385</td>\n",
       "    </tr>\n",
       "    <tr>\n",
       "      <th>82</th>\n",
       "      <td>2021-06-01</td>\n",
       "      <td>140799</td>\n",
       "      <td>7373</td>\n",
       "      <td>131463</td>\n",
       "      <td>1963</td>\n",
       "      <td>449</td>\n",
       "      <td>5791503</td>\n",
       "      <td>2171336</td>\n",
       "    </tr>\n",
       "    <tr>\n",
       "      <th>83</th>\n",
       "      <td>2021-06-02</td>\n",
       "      <td>141476</td>\n",
       "      <td>7443</td>\n",
       "      <td>132068</td>\n",
       "      <td>1965</td>\n",
       "      <td>654</td>\n",
       "      <td>6358512</td>\n",
       "      <td>2198010</td>\n",
       "    </tr>\n",
       "    <tr>\n",
       "      <th>84</th>\n",
       "      <td>2021-06-03</td>\n",
       "      <td>142157</td>\n",
       "      <td>7490</td>\n",
       "      <td>132699</td>\n",
       "      <td>1968</td>\n",
       "      <td>672</td>\n",
       "      <td>6741993</td>\n",
       "      <td>2220728</td>\n",
       "    </tr>\n",
       "  </tbody>\n",
       "</table>\n",
       "<p>85 rows × 8 columns</p>\n",
       "</div>"
      ],
      "text/plain": [
       "     BaseDate  Infections  Isolations  Released  Death  Local_Occur  TotalPV  \\\n",
       "0  2021-03-11       94198        7871     84675   1652          444   500635   \n",
       "1  2021-03-12       94686        7281     85743   1662          467   546277   \n",
       "2  2021-03-13       95176        6884     86625   1667          474   583658   \n",
       "3  2021-03-14       95635        6558     87408   1669          436   587884   \n",
       "4  2021-03-15       96011        6582     87754   1675          367   588958   \n",
       "..        ...         ...         ...       ...    ...          ...      ...   \n",
       "80 2021-05-30      139910        7572    130381   1957          464  5399015   \n",
       "81 2021-05-31      140340        7558    130823   1959          411  5403854   \n",
       "82 2021-06-01      140799        7373    131463   1963          449  5791503   \n",
       "83 2021-06-02      141476        7443    132068   1965          654  6358512   \n",
       "84 2021-06-03      142157        7490    132699   1968          672  6741993   \n",
       "\n",
       "    TotalSV  \n",
       "0         0  \n",
       "1         0  \n",
       "2         0  \n",
       "3         0  \n",
       "4         0  \n",
       "..      ...  \n",
       "80  2143293  \n",
       "81  2143385  \n",
       "82  2171336  \n",
       "83  2198010  \n",
       "84  2220728  \n",
       "\n",
       "[85 rows x 8 columns]"
      ]
     },
     "execution_count": 18,
     "metadata": {},
     "output_type": "execute_result"
    }
   ],
   "source": [
    "infoDF"
   ]
  },
  {
   "cell_type": "markdown",
   "metadata": {},
   "source": [
    "# 5. 분석 결과 도출"
   ]
  },
  {
   "cell_type": "markdown",
   "metadata": {},
   "source": [
    "어느 날짜까지 예측할지 결정합니다."
   ]
  },
  {
   "cell_type": "code",
   "execution_count": 19,
   "metadata": {},
   "outputs": [],
   "source": [
    "tomorrow = datetime.datetime.today()# + datetime.timedelta(days=1)\n",
    "endDate = datetime.datetime.today() + datetime.timedelta(days=730) # 오늘로부터 2년 후까지 예측\n",
    "\n",
    "predStartDate = tomorrow.strftime(\"%Y-%m-%d\")\n",
    "predEndDate = endDate.strftime(\"%Y-%m-%d\")"
   ]
  },
  {
   "cell_type": "markdown",
   "metadata": {},
   "source": [
    "아래부터 각 항목에 대한 예측을 합니다.\n",
    "\n",
    "격리 중인 총 환자 수와 당일 지역발생 수는 다음의 이유로 제외합니다.\n",
    "- 누적형 데이터가 아님\n",
    "- 격리 중인 총 환자 수는 백신 접종과 거의 무관하다 판단\n",
    "- 당일 지역발생 수는 총 확진자 수로 거의 대체 가능하다 판단"
   ]
  },
  {
   "cell_type": "markdown",
   "metadata": {},
   "source": [
    "## 5-1. 총 확진자 수 예측"
   ]
  },
  {
   "cell_type": "markdown",
   "metadata": {},
   "source": [
    "시간에 따른 예측이기 때문에, 시계열 예측의 모델 중 하나인 `ARIMA`를 사용하여 예측합니다.<br>\n",
    "먼저, 각 항목을 시계열 예측하기 위해 데이터를 분리합니다."
   ]
  },
  {
   "cell_type": "code",
   "execution_count": 20,
   "metadata": {},
   "outputs": [],
   "source": [
    "infectionsDF = infoDF[['BaseDate', 'Infections']].set_index('BaseDate')\n",
    "infectionsDF.index = pd.DatetimeIndex(infectionsDF.index.values, freq=infectionsDF.index.inferred_freq)"
   ]
  },
  {
   "cell_type": "markdown",
   "metadata": {},
   "source": [
    "아래는 [이 글](https://byeongkijeong.github.io/ARIMA-with-Python/)을 통해 작성되었습니다.\n",
    "\n",
    "`ARIMA`의 모수는 아래와 같이 크게 3가지가 있습니다.\n",
    "\n",
    "1. `AR` 모형의 `Lag`을 의미하는 $p$\n",
    "2. `MA` 모형의 `Lag`을 의미하는 $q$\n",
    "3. `차분 횟수`를 의미하는 $d$\n",
    "\n",
    "통상적으로 $p+q<2,\\; p\\times q=0$ 인 값들을 많이 사용합니다.\n",
    "\n",
    "글 작성자의 경험 상 `ACF` 함수와 `PACF` 함수를 통해 `AR` 및 `MA`의 모수를 추정할 수 있다고 합니다.\n",
    "\n",
    "- 데이터가 `AR`의 특성을 띄는 경우, `ACF`는 천천히 감소하고 `PACF`는 처음을 제외하고 급격히 감소한다.\n",
    "- 데이터가 `MA`의 특성읠 띄는 경우, `ACF`는 급격히 감소하고 `PACF`는 천천히 감소한다.\n",
    "\n",
    "여기서, 급격히 감소하는 시차를 각 `AR`과 `MA` 모형의 모수, 즉 $p,\\;q$로 사용할 수 있습니다.<br>\n",
    "또한, 데이터를 차분하여 `ACF` 및 `PACF`를 계산함으로써 적절한 차분회수까지 구할 수 있습니다.\n",
    "\n",
    "`ARIMA`의 모수를 설정하기 위해, `ACF` 함수와 `PACF` 함수가 어떻게 그려지는지를 보겠습니다.<br>\n",
    "`ACF`와 `PACF`를 계산하기 위해 `statsmodels`를 사용합니다."
   ]
  },
  {
   "cell_type": "code",
   "execution_count": 21,
   "metadata": {
    "scrolled": false
   },
   "outputs": [
    {
     "data": {
      "image/png": "[encoded data removed]",
      "text/plain": [
       "<Figure size 432x288 with 1 Axes>"
      ]
     },
     "metadata": {
      "needs_background": "light"
     },
     "output_type": "display_data"
    },
    {
     "data": {
      "image/png": "[encoded data removed]",
      "text/plain": [
       "<Figure size 432x288 with 1 Axes>"
      ]
     },
     "metadata": {
      "needs_background": "light"
     },
     "output_type": "display_data"
    }
   ],
   "source": [
    "import matplotlib.pyplot as plt\n",
    "from statsmodels.graphics.tsaplots import plot_acf, plot_pacf\n",
    "\n",
    "plot_acf(infectionsDF)\n",
    "plot_pacf(infectionsDF)\n",
    "plt.show()"
   ]
  },
  {
   "cell_type": "markdown",
   "metadata": {},
   "source": [
    "`ACF`는 1.0에서 0.3으로 천천히 감소하고 있고, `PACF`는 1의 Time lag에서 약 0.97을 보이고, 이후 급격히 감소하여 음수로 떨어집니다.<br>\n",
    "이를 통해, 데이터가 AR의 특성을 띄는 것을 알 수 있습니다.\n",
    "\n",
    "따라서 $p=0,\\;q=1$이 적당하다고 추측할 수 있습니다.\n",
    "\n",
    "적절한 차분 차수의 계산을 위해 우선 1차 차분을 하고, `ACF` 및 `PACF`를 다시 계산합니다."
   ]
  },
  {
   "cell_type": "code",
   "execution_count": 22,
   "metadata": {},
   "outputs": [
    {
     "data": {
      "image/png": "[encoded data removed]",
      "text/plain": [
       "<Figure size 432x288 with 1 Axes>"
      ]
     },
     "metadata": {
      "needs_background": "light"
     },
     "output_type": "display_data"
    },
    {
     "data": {
      "image/png": "[encoded data removed]",
      "text/plain": [
       "<Figure size 432x288 with 1 Axes>"
      ]
     },
     "metadata": {
      "needs_background": "light"
     },
     "output_type": "display_data"
    },
    {
     "data": {
      "image/png": "[encoded data removed]",
      "text/plain": [
       "<Figure size 432x288 with 1 Axes>"
      ]
     },
     "metadata": {
      "needs_background": "light"
     },
     "output_type": "display_data"
    }
   ],
   "source": [
    "idiff_1 = infectionsDF.diff(periods=1).iloc[1:]\n",
    "idiff_1.plot()\n",
    "plot_acf(idiff_1)\n",
    "plot_pacf(idiff_1)\n",
    "plt.show()"
   ]
  },
  {
   "cell_type": "markdown",
   "metadata": {},
   "source": [
    "1차 차분을 보니, `ACF`가 정상성을 보이지 않는 것 같으므로, 2차 차분을 해보겠습니다."
   ]
  },
  {
   "cell_type": "code",
   "execution_count": 23,
   "metadata": {
    "scrolled": false
   },
   "outputs": [
    {
     "data": {
      "image/png": "[encoded data removed]",
      "text/plain": [
       "<Figure size 432x288 with 1 Axes>"
      ]
     },
     "metadata": {
      "needs_background": "light"
     },
     "output_type": "display_data"
    },
    {
     "data": {
      "image/png": "[encoded data removed]",
      "text/plain": [
       "<Figure size 432x288 with 1 Axes>"
      ]
     },
     "metadata": {
      "needs_background": "light"
     },
     "output_type": "display_data"
    },
    {
     "data": {
      "image/png": "[encoded data removed]",
      "text/plain": [
       "<Figure size 432x288 with 1 Axes>"
      ]
     },
     "metadata": {
      "needs_background": "light"
     },
     "output_type": "display_data"
    }
   ],
   "source": [
    "idiff_2 = idiff_1.diff(periods=1).iloc[1:]\n",
    "idiff_2.plot()\n",
    "plot_acf(idiff_2)\n",
    "plot_pacf(idiff_2)\n",
    "plt.show()"
   ]
  },
  {
   "cell_type": "markdown",
   "metadata": {},
   "source": [
    "2차 차분이 어느 정도 정상성을 보이는 것 같습니다. 따라서 이 데이터에는 `ARIMA(p=0, q=1, d=2)`을 사용하겠습니다."
   ]
  },
  {
   "cell_type": "code",
   "execution_count": 24,
   "metadata": {
    "scrolled": false
   },
   "outputs": [],
   "source": [
    "from statsmodels.tsa.arima.model import ARIMA\n",
    "\n",
    "imodel = ARIMA(infectionsDF, order=(0, 2, 1), freq='D')\n",
    "imodel_fit = imodel.fit()\n",
    "\n",
    "if debugPrint:\n",
    "    print(imodel_fit.summary())"
   ]
  },
  {
   "cell_type": "markdown",
   "metadata": {},
   "source": [
    "만들어진 모델로, 미래의 총 확진자 수를 예측합니다."
   ]
  },
  {
   "cell_type": "code",
   "execution_count": 25,
   "metadata": {},
   "outputs": [],
   "source": [
    "ipreds = imodel_fit.predict(predStartDate, predEndDate).to_frame()\n",
    "ipreds.columns = ['Infections']\n",
    "\n",
    "iresult = pd.concat([infectionsDF, ipreds])"
   ]
  },
  {
   "cell_type": "markdown",
   "metadata": {},
   "source": [
    "## 5-2. 격리 해제된 총 환자 수 예측"
   ]
  },
  {
   "cell_type": "code",
   "execution_count": 26,
   "metadata": {},
   "outputs": [
    {
     "data": {
      "image/png": "[encoded data removed]",
      "text/plain": [
       "<Figure size 432x288 with 1 Axes>"
      ]
     },
     "metadata": {
      "needs_background": "light"
     },
     "output_type": "display_data"
    },
    {
     "data": {
      "image/png": "[encoded data removed]",
      "text/plain": [
       "<Figure size 432x288 with 1 Axes>"
      ]
     },
     "metadata": {
      "needs_background": "light"
     },
     "output_type": "display_data"
    }
   ],
   "source": [
    "releasedDF = infoDF[['BaseDate', 'Released']].set_index('BaseDate')\n",
    "releasedDF.index = pd.DatetimeIndex(releasedDF.index.values, freq=releasedDF.index.inferred_freq)\n",
    "\n",
    "plot_acf(releasedDF)\n",
    "plot_pacf(releasedDF)\n",
    "plt.show()"
   ]
  },
  {
   "cell_type": "markdown",
   "metadata": {},
   "source": [
    "`ACF`는 1.0에서 약 0.35으로 천천히 감소하고 있고, `PACF`는 1의 Time lag에서 약 0.97을 보이고, 이후 급격히 감소하여 음수로 떨어집니다.<br>\n",
    "이를 통해, 데이터가 AR의 특성을 띄는 것을 알 수 있습니다.\n",
    "\n",
    "따라서 $p=0,\\;q=1$이 적당하다고 추측할 수 있습니다."
   ]
  },
  {
   "cell_type": "code",
   "execution_count": 27,
   "metadata": {},
   "outputs": [],
   "source": [
    "rorder = (0, 2, 1)\n",
    "rmodel = ARIMA(releasedDF, order=rorder, freq='D')\n",
    "rmodel_fit = rmodel.fit()\n",
    "\n",
    "if debugPrint:\n",
    "    print(rmodel_fit.summary())"
   ]
  },
  {
   "cell_type": "markdown",
   "metadata": {},
   "source": [
    "만들어진 모델로, 미래의 격리 해제된 총 환자 수를 예측합니다."
   ]
  },
  {
   "cell_type": "code",
   "execution_count": 28,
   "metadata": {},
   "outputs": [],
   "source": [
    "rpreds = rmodel_fit.predict(predStartDate, predEndDate).to_frame()\n",
    "rpreds.columns = ['Released']\n",
    "\n",
    "rresult = pd.concat([releasedDF, rpreds])"
   ]
  },
  {
   "cell_type": "markdown",
   "metadata": {},
   "source": [
    "## 5-3. 총 사망자 수 예측"
   ]
  },
  {
   "cell_type": "code",
   "execution_count": 29,
   "metadata": {},
   "outputs": [
    {
     "data": {
      "image/png": "[encoded data removed]",
      "text/plain": [
       "<Figure size 432x288 with 1 Axes>"
      ]
     },
     "metadata": {
      "needs_background": "light"
     },
     "output_type": "display_data"
    },
    {
     "data": {
      "image/png": "[encoded data removed]",
      "text/plain": [
       "<Figure size 432x288 with 1 Axes>"
      ]
     },
     "metadata": {
      "needs_background": "light"
     },
     "output_type": "display_data"
    }
   ],
   "source": [
    "deathDF = infoDF[['BaseDate', 'Death']].set_index('BaseDate')\n",
    "deathDF.index = pd.DatetimeIndex(deathDF.index.values, freq=deathDF.index.inferred_freq)\n",
    "\n",
    "plot_acf(deathDF)\n",
    "plot_pacf(deathDF)\n",
    "plt.show()"
   ]
  },
  {
   "cell_type": "markdown",
   "metadata": {},
   "source": [
    "`ACF`는 1.0에서 약 0.35으로 천천히 감소하고 있고, `PACF`는 1의 Time lag에서 약 0.97을 보이고, 이후 급격히 감소하여 음수로 떨어집니다.<br>\n",
    "이를 통해, 데이터가 AR의 특성을 띄는 것을 알 수 있습니다.\n",
    "\n",
    "따라서 $p=0,\\;q=1$이 적당하다고 추측할 수 있습니다."
   ]
  },
  {
   "cell_type": "code",
   "execution_count": 30,
   "metadata": {},
   "outputs": [],
   "source": [
    "dorder = (0, 2, 1)\n",
    "dmodel = ARIMA(deathDF, order=dorder, freq='D')\n",
    "dmodel_fit = dmodel.fit()\n",
    "\n",
    "if debugPrint:\n",
    "    print(dmodel_fit.summary())"
   ]
  },
  {
   "cell_type": "markdown",
   "metadata": {},
   "source": [
    "만들어진 모델로, 미래의 총 사망자 수를 예측합니다."
   ]
  },
  {
   "cell_type": "code",
   "execution_count": 31,
   "metadata": {},
   "outputs": [],
   "source": [
    "dpreds = dmodel_fit.predict(predStartDate, predEndDate).to_frame()\n",
    "dpreds.columns = ['Death']\n",
    "\n",
    "dresult = pd.concat([deathDF, dpreds])"
   ]
  },
  {
   "cell_type": "code",
   "execution_count": 32,
   "metadata": {},
   "outputs": [],
   "source": [
    "result = pd.concat([iresult, rresult, dresult], axis=1)\n",
    "result = result.reset_index()\n",
    "del result['index']"
   ]
  },
  {
   "cell_type": "markdown",
   "metadata": {},
   "source": [
    "`ARIMA` 모델로 예측한 데이터로 선형 회귀를 사용해서, 총 1차 백신 접종자 수를 구합니다."
   ]
  },
  {
   "cell_type": "code",
   "execution_count": 33,
   "metadata": {},
   "outputs": [],
   "source": [
    "from sklearn.linear_model import LinearRegression\n",
    "from sklearn.model_selection import train_test_split\n",
    "\n",
    "X = result\n",
    "y = infoDF[['TotalPV']]\n",
    "\n",
    "realX = X[:len(y)]\n",
    "predictX = X[len(y):]\n",
    "\n",
    "X_train, X_test, y_train, y_test = train_test_split(realX, y, train_size=0.7, test_size=0.3, random_state=2021)\n",
    "\n",
    "lr = LinearRegression()\n",
    "lr.fit(X_train, y_train)\n",
    "\n",
    "if debugPrint:\n",
    "    print(f'Score : {lr.score(X_train, y_train)}')"
   ]
  },
  {
   "cell_type": "code",
   "execution_count": 34,
   "metadata": {
    "scrolled": false
   },
   "outputs": [],
   "source": [
    "y_predict = lr.predict(predictX)"
   ]
  },
  {
   "cell_type": "markdown",
   "metadata": {},
   "source": [
    "# 6. 결론"
   ]
  },
  {
   "cell_type": "markdown",
   "metadata": {},
   "source": [
    "2021년 기준 한국의 인구는 [51,821,669명](https://kosis.kr/statHtml/statHtml.do?orgId=101&tblId=DT_1BPA002&checkFlag=N)입니다. 이를 통해 1차 백신을 맞은 사람의 비율을 구하겠습니다."
   ]
  },
  {
   "cell_type": "code",
   "execution_count": 35,
   "metadata": {
    "scrolled": true
   },
   "outputs": [
    {
     "name": "stdout",
     "output_type": "stream",
     "text": [
      "인구의 70% 백신 접종 완료 시기 : 2022-07-11\n",
      "인구의 75% 백신 접종 완료 시기 : 2022-08-14\n",
      "인구의 80% 백신 접종 완료 시기 : 2022-09-17\n",
      "인구의 85% 백신 접종 완료 시기 : 2022-10-20\n",
      "인구의 90% 백신 접종 완료 시기 : 2022-11-23\n",
      "인구의 95% 백신 접종 완료 시기 : 2022-12-26\n"
     ]
    }
   ],
   "source": [
    "population = 51821669\n",
    "targetProportions = [0.7, 0.75, 0.8, 0.85, 0.9, 0.95]\n",
    "resultIndex = []\n",
    "findTarget = 0\n",
    "\n",
    "for idx, val in enumerate(y_predict):\n",
    "    if val[0] >= population:\n",
    "        break\n",
    "    if val[0] / population > targetProportions[findTarget]:\n",
    "        findTarget = findTarget + 1\n",
    "        resultIndex.append(idx)\n",
    "    if findTarget == len(targetProportions):\n",
    "        break\n",
    "\n",
    "today = datetime.datetime.now()\n",
    "for i in range(len(resultIndex)):\n",
    "    tmpDate = today + datetime.timedelta(days=resultIndex[i] + 1)\n",
    "    print('인구의 %d%% 백신 접종 완료 시기 : %s' % (int(targetProportions[i] * 100), tmpDate.strftime(\"%Y-%m-%d\")))"
   ]
  },
  {
   "cell_type": "markdown",
   "metadata": {},
   "source": [
    "완료 시기가 선형적으로 보이고 있습니다. 아무래도 잘못된 방법을 사용한 듯 합니다.<br>\n",
    "`ARIMA` 모델에 대한 이해도가 부족하여 이러한 결과가 나온 듯 합니다."
   ]
  },
  {
   "cell_type": "markdown",
   "metadata": {},
   "source": [
    "# 7. 참고문헌"
   ]
  },
  {
   "cell_type": "markdown",
   "metadata": {},
   "source": [
    "### 데이터 출처\n",
    "\n",
    "- 코로나19 발생 현황 : https://www.data.go.kr/data/15043378/openapi.do\n",
    "- 코로나19 예방접종 현황 : https://www.data.go.kr/data/15077756/openapi.do\n",
    "\n",
    "### 데이터 불러오기\n",
    "\n",
    "- datetime module : https://docs.python.org/ko/3/library/datetime.html\n",
    "    - 당일을 기준으로 최신 데이터를 불러오기 위해 사용\n",
    "\n",
    "### 데이터 가공\n",
    "\n",
    "- XML Parsing : https://docs.python.org/3/library/xml.etree.elementtree.html\n",
    "- JSON Parsing : https://docs.python.org/3/library/json.html\n",
    "\n",
    "### 데이터 분석\n",
    "\n",
    "- 파이썬 머신러닝 판다스 데이터 분석 : https://book.naver.com/bookdb/book_detail.nhn?bid=15028524\n",
    "- ARIMA 모델 : https://byeongkijeong.github.io/ARIMA-with-Python/"
   ]
  },
  {
   "cell_type": "markdown",
   "metadata": {},
   "source": [
    "# 8. 별첨: 획득한 데이터 원본"
   ]
  },
  {
   "cell_type": "markdown",
   "metadata": {},
   "source": [
    "실행할 때 마다 불러오기 때문에 특정한 데이터 원본이 존재하지 않습니다."
   ]
  },
  {
   "cell_type": "markdown",
   "metadata": {},
   "source": [
    "# 9. 별첨: 가공된 데이터 원본"
   ]
  },
  {
   "cell_type": "markdown",
   "metadata": {},
   "source": [
    "위에서 기술했듯이, 실행할 때 마다 데이터를 불러와서 가공을 하기 때문에 특정한 가공 데이터 원본이 존재하지 않습니다."
   ]
  },
  {
   "cell_type": "markdown",
   "metadata": {},
   "source": [
    "# 10. 변환 작업을 위한 파이썬 코드 원본"
   ]
  },
  {
   "cell_type": "markdown",
   "metadata": {},
   "source": [
    "위의 4번에서 처리하였습니다."
   ]
  }
 ],
 "metadata": {
  "kernelspec": {
   "display_name": "Python 3",
   "language": "python",
   "name": "python3"
  },
  "language_info": {
   "codemirror_mode": {
    "name": "ipython",
    "version": 3
   },
   "file_extension": ".py",
   "mimetype": "text/x-python",
   "name": "python",
   "nbconvert_exporter": "python",
   "pygments_lexer": "ipython3",
   "version": "3.7.9"
  }
 },
 "nbformat": 4,
 "nbformat_minor": 4
}
