{
 "cells": [
  {
   "cell_type": "markdown",
   "metadata": {},
   "source": [
    "## 1. 주제 선정 이유"
   ]
  },
  {
   "cell_type": "markdown",
   "metadata": {},
   "source": [
    "최근 코로나 바이러스 감염증-19(COVID-19, 이하 코로나19)의 확진자가 늘어났다가 줄어들었다가를 반복하고 있는 한편, 백신(예방접종) 투약이 이뤄지기 시작하였습니다.\n",
    "\n",
    "이러한 속도로 보았을 때에, 집단 면역이 이루어질 때가 언제일지 궁금하였습니다.\n",
    "\n",
    "물론, 일반적인 뉴스에서 찾아보는 정보로는 [11월에 우리나라에서 집단 면역이 이루어질 것](https://www.news1.kr/articles/?4285537)이라 예상하지만, 이를 스스로도 예상해보고 싶어서 이러한 주제를 선정하게 되었습니다.\n",
    "\n",
    "국가 간의 외교, 바이러스의 변종 등의 요소는 선택한 데이터들에 들어있지 않기에 예상 결과가 일반적인 예상인 11월과는 조금 달라질 것입니다.\n",
    "\n",
    "하지만 스스로 만들어보는 것에 의의를 두고, 열심히 만들어보겠습니다."
   ]
  },
  {
   "cell_type": "markdown",
   "metadata": {},
   "source": [
    "## 2. 주제 정의"
   ]
  },
  {
   "cell_type": "markdown",
   "metadata": {},
   "source": [
    "공공데이터포털의 [공공데이터활용지원센터_코로나19 예방접종 통계 데이터 조회 서비스](https://www.data.go.kr/data/15077756/openapi.do)와 [보건복지부_코로나19 시·도발생_현황](https://www.data.go.kr/data/15043378/openapi.do) 를 통해 프로그램을 시작할 때마다 데이터를 불러와서, 항상 최신의 데이터를 사용하여 집단 면역이 이루어지는 시기를 예측합니다.\n",
    "\n",
    "집단 면역의 기준은, [WHO](https://www.who.int/news-room/q-a-detail/herd-immunity-lockdowns-and-covid-19)에 따르면 일반적인 기준은 없고 질병마다 다르다고 하며, 그에 대한 예시로 홍역은 약 95%가 백신을, 소아마비는 약 80%가 백신을 맞아야 집단 면역이 이루어진다고 합니다.\n",
    "\n",
    "[이 기사](https://www.nytimes.com/2020/12/24/health/herd-immunity-covid-coronavirus.html)를 참고하면, 코로나19의 집단 면역 기준은 바이러스 시작 쯤에 나온 예상 수치인 60~70%는 현 상황에서는 낮으며, 약 85% 이상이 되어야 한다고 전문가들은 주장합니다.\n",
    "\n",
    "따라서, 아직 코로나19의 집단 면역 기준이 확실하지 않기 때문에, 예상 수치는 70%부터 5%씩 올려서 95%까지 확인해 볼 것입니다."
   ]
  },
  {
   "cell_type": "markdown",
   "metadata": {},
   "source": [
    "## 3. 인터넷을 통한 데이터의 획득"
   ]
  },
  {
   "cell_type": "markdown",
   "metadata": {},
   "source": [
    "`requests` 모듈을 사용하여 API로부터 데이터를 가져올 것입니다.<br>\n",
    "`api_key` 는 인코딩된 인증키이며, `api_key_decode` 는 디코딩된 인증키입니다."
   ]
  },
  {
   "cell_type": "code",
   "execution_count": null,
   "metadata": {},
   "outputs": [],
   "source": [
    "import requests\n",
    "api_key = \"myaCBEk1XX8eSIOiKYJOj5ksB%2BRl%2BxYCJVn2eaWckckSQnQt8gu6lU2HBqSP5Hsx6Gd8uXpXowCPRTjGJ5yDsw%3D%3D\"\n",
    "api_key_decode = requests.utils.unquote(api_key)"
   ]
  },
  {
   "cell_type": "markdown",
   "metadata": {},
   "source": [
    "[보건복지부_코로나19 시·도발생_현황](https://www.data.go.kr/data/15043378/openapi.do)에서 데이터를 불러오고 있습니다.<br>\n",
    "데이터의 형태는 XML이고, 필요없는 데이터도 몇 섞여있기에 가공할 필요가 있습니다.\n",
    "\n",
    "해당 데이터의 요청변수는 아래와 같습니다.\n",
    "\n",
    "| 키 이름 | 항목 크기 | 항목 구분 | 항목 설명 | 입력 예시 |\n",
    "| :- | :-: | :-: | :- | :- |\n",
    "| serviceKey | 4 | 필수 | 공공 데이터 포털에서 받은 인증키 | - |\n",
    "| pageNo | 4 | 옵션 | 페이지 번호 | 1 |\n",
    "| numOfRows | 4 | 옵션 | 한 페이지의 결과 수 | 10 |\n",
    "| startCreateDt | 30 | 옵션 | 검색할 생성일 범위의 시작| 20210420 |\n",
    "| endCreateDt | 15 | 옵션 | 검색할 생성일 범위의 종료 | 20210425 |"
   ]
  },
  {
   "cell_type": "code",
   "execution_count": null,
   "metadata": {},
   "outputs": [],
   "source": [
    "def loadCovid19InfState(pageNo, numOfRows, startDate, endDate):\n",
    "    url = \"http://openapi.data.go.kr/openapi/service/rest/Covid19/getCovid19SidoInfStateJson\"\n",
    "    parameters = {\"serviceKey\" : api_key_decode}\n",
    "    \n",
    "    if pageNo != None:\n",
    "        parameters[\"pageNo\"] = pageNo\n",
    "    if numOfRows != None:\n",
    "        parameters[\"numOfRows\"] = numOfRows\n",
    "    if startDate != None:\n",
    "        parameters[\"startDate\"] = startDate\n",
    "    if endDate != None:\n",
    "        parameters[\"endDate\"] = endDate\n",
    "    \n",
    "    return requests.get(url, params = parameters)"
   ]
  },
  {
   "cell_type": "markdown",
   "metadata": {},
   "source": [
    "[공공데이터활용지원센터_코로나19 예방접종 통계 데이터 조회 서비스](https://www.data.go.kr/data/15077756/openapi.do)에서 데이터를 불러오고 있습니다.<br>\n",
    "데이터의 형태는 JSON 이고, 필요없는 데이터도 몇 섞여있기에 가공할 필요가 있습니다.\n",
    "\n",
    "현재 해당 API호출에서 `{\"code\":-4,\"msg\":\"등록되지 않은 인증키 입니다.\"}` 라는 대답만 돌아오고 있습니다.<br>\n",
    "여러 방법을 사용해보았으나 문제가 해결되지 않아, 문의 메일을 보내놓고 기다리고 있는 상태입니다.\n",
    "\n",
    "대답을 받았고, 인코딩 및 디코딩의 문제였습니다. 현재 시점에는 해결되었습니다.\n",
    "\n",
    "해당 데이터의 요청변수는 아래와 같습니다.\n",
    "\n",
    "| 키 이름 | 항목 타입 | 항목 구분 | 항목 설명 | 입력 예시 |\n",
    "| :- | :-: | :-: | :- | :- |\n",
    "| serviceKey | string | 필수 | 공공 데이터 포털에서 받은 인증키 | - |\n",
    "| page | int64 | 필수 | 페이지 번호 | 1 |\n",
    "| perPage | int64 | 필수 | 한 페이지의 결과 수 | 10 |\n",
    "| returnType | string | 선택 | 응답의 데이터 타입 (JSON or XML) (기본값 : JSON) | JSON |\n",
    "| cond[baseDate::EQ] | string | 선택 | 요청 일자와 같은 일자의 통계를 가져옴 | 2021-04-25 00:00:00 |\n",
    "| cond[baseDate::LT]] | string | 선택 | 요청 일자 이전의 통계를 가져옴 | 2021-04-25 00:00:00 |\n",
    "| cond[baseDate::LTE] | string | 선택 | 요청 일자 이전이거나 같은 일자의 통계를 가져옴 | 2021-04-25 00:00:00 |\n",
    "| cond[baseDate::GT] | string | 선택 | 요청 일자 이후의 통계를 가져옴 | 2021-04-25 00:00:00 |\n",
    "| cond[baseDate::GTE] | string | 선택 | 요청 일자 이후거나 같은 일자의 통계를 가져옴 | 2021-04-25 00:00:00 |\n",
    "| cond[sido::EQ] | string | 선택 | 지역명칭(시도명) | 서울특별시 |"
   ]
  },
  {
   "cell_type": "code",
   "execution_count": null,
   "metadata": {},
   "outputs": [],
   "source": [
    "def loadVaccineState(page=1, perPage=10):\n",
    "    url = f\"https://api.odcloud.kr/api/15077756/v1/vaccine-stat?serviceKey={api_key}&page={page}&perPage={perPage}\"\n",
    "    return requests.get(url)"
   ]
  },
  {
   "cell_type": "code",
   "execution_count": null,
   "metadata": {},
   "outputs": [],
   "source": [
    "covid19InfStateResponse = loadCovid19InfState(startDate=20210420, endDate=20210425)\n",
    "print(covid19InfStateResponse.text)"
   ]
  },
  {
   "cell_type": "code",
   "execution_count": null,
   "metadata": {},
   "outputs": [],
   "source": [
    "vaccineStateResponse = loadVaccineState()\n",
    "print(vaccineStateResponse.text)"
   ]
  },
  {
   "cell_type": "markdown",
   "metadata": {},
   "source": [
    "## 4. 분석을 위한 데이터의 가공"
   ]
  },
  {
   "cell_type": "markdown",
   "metadata": {},
   "source": [
    "위에서 기술했듯이, 각 데이터에는 분석에 필요하지 않은 데이터가 있습니다.<br>\n",
    "파이썬에서 쓰기 편하게 각 항목을 클래스를 이용하여 하나로 묶으면서 필요하지 않은 데이터를 버리도록 하겠습니다."
   ]
  },
  {
   "cell_type": "code",
   "execution_count": null,
   "metadata": {},
   "outputs": [],
   "source": [
    "class Covid19InfState:\n",
    "    def __init__(self):\n",
    "        "
   ]
  }
 ],
 "metadata": {
  "kernelspec": {
   "display_name": "Python 3",
   "language": "python",
   "name": "python3"
  },
  "language_info": {
   "codemirror_mode": {
    "name": "ipython",
    "version": 3
   },
   "file_extension": ".py",
   "mimetype": "text/x-python",
   "name": "python",
   "nbconvert_exporter": "python",
   "pygments_lexer": "ipython3",
   "version": "3.7.9"
  }
 },
 "nbformat": 4,
 "nbformat_minor": 4
}
