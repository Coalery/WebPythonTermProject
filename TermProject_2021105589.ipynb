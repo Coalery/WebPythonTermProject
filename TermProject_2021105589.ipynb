{
 "cells": [
  {
   "cell_type": "markdown",
   "metadata": {
    "id": "NNCRVj6a-nsq"
   },
   "source": [
    "# 1. 주제 선정 이유"
   ]
  },
  {
   "cell_type": "markdown",
   "metadata": {
    "id": "07Vj3mJt-nst"
   },
   "source": [
    "최근 코로나 바이러스 감염증-19(COVID-19, 이하 코로나19)의 확진자가 늘어났다가 줄어들었다가를 반복하고 있는 한편, 백신(예방접종) 투약이 이뤄지기 시작하였습니다.\n",
    "\n",
    "이러한 속도로 보았을 때에, 집단 면역이 이루어질 때가 언제일지 궁금하였습니다.\n",
    "\n",
    "물론, 일반적인 뉴스에서 찾아보는 정보로는 [11월에 우리나라에서 집단 면역이 이루어질 것](https://www.news1.kr/articles/?4285537)이라 예상하지만, 이를 스스로도 예상해보고 싶어서 이러한 주제를 선정하게 되었습니다.\n",
    "\n",
    "국가 간의 외교, 바이러스의 변종 등의 요소는 선택한 데이터들에 들어있지 않기에 예상 결과가 일반적인 예상인 11월과는 조금 달라질 것입니다.\n",
    "\n",
    "하지만 스스로 만들어보는 것에 의의를 두고, 열심히 만들어보겠습니다."
   ]
  },
  {
   "cell_type": "markdown",
   "metadata": {
    "id": "00J-t2ma-nsu"
   },
   "source": [
    "# 2. 주제 정의"
   ]
  },
  {
   "cell_type": "markdown",
   "metadata": {
    "id": "YQUQ73fT-nsu"
   },
   "source": [
    "공공데이터포털의 [공공데이터활용지원센터_코로나19 예방접종 통계 데이터 조회 서비스](https://www.data.go.kr/data/15077756/openapi.do)와 [보건복지부_코로나19 시·도발생_현황](https://www.data.go.kr/data/15043378/openapi.do) 를 통해 프로그램을 시작할 때마다 데이터를 불러와서, 항상 최신의 데이터를 사용하여 집단 면역이 이루어지는 시기를 예측합니다.\n",
    "\n",
    "집단 면역의 기준은, [WHO](https://www.who.int/news-room/q-a-detail/herd-immunity-lockdowns-and-covid-19)에 따르면 일반적인 기준은 없고 질병마다 다르다고 하며, 그에 대한 예시로 홍역은 약 95%가 백신을, 소아마비는 약 80%가 백신을 맞아야 집단 면역이 이루어진다고 합니다.\n",
    "\n",
    "[이 기사](https://www.nytimes.com/2020/12/24/health/herd-immunity-covid-coronavirus.html)를 참고하면, 코로나19의 집단 면역 기준은 바이러스 시작 쯤에 나온 예상 수치인 60~70%는 현 상황에서는 낮으며, 약 85% 이상이 되어야 한다고 전문가들은 주장합니다.\n",
    "\n",
    "따라서, 아직 코로나19의 집단 면역 기준이 확실하지 않기 때문에, 예상 수치는 70%부터 5%씩 올려서 95%까지 확인해 볼 것입니다."
   ]
  },
  {
   "cell_type": "markdown",
   "metadata": {
    "id": "X5F7POIU-nsu"
   },
   "source": [
    "# 3. 인터넷을 통한 데이터의 획득"
   ]
  },
  {
   "cell_type": "code",
   "execution_count": 1,
   "metadata": {
    "executionInfo": {
     "elapsed": 423,
     "status": "ok",
     "timestamp": 1622830509207,
     "user": {
      "displayName": "러리",
      "photoUrl": "https://lh3.googleusercontent.com/a-/AOh14GgiyW87GR11Bhn3mcw2smZocWsVWeRDnTWL71XV=s64",
      "userId": "00990509583653091448"
     },
     "user_tz": -540
    },
    "id": "EmMMO6Dw-nsv"
   },
   "outputs": [],
   "source": [
    "debugPrint = False"
   ]
  },
  {
   "cell_type": "markdown",
   "metadata": {
    "id": "HHpSI4w--nsv"
   },
   "source": [
    "`requests` 모듈을 사용하여 API로부터 데이터를 가져올 것입니다.<br>"
   ]
  },
  {
   "cell_type": "code",
   "execution_count": 2,
   "metadata": {
    "executionInfo": {
     "elapsed": 19,
     "status": "ok",
     "timestamp": 1622830509702,
     "user": {
      "displayName": "러리",
      "photoUrl": "https://lh3.googleusercontent.com/a-/AOh14GgiyW87GR11Bhn3mcw2smZocWsVWeRDnTWL71XV=s64",
      "userId": "00990509583653091448"
     },
     "user_tz": -540
    },
    "id": "72CEgxTQ-nsw"
   },
   "outputs": [],
   "source": [
    "import requests\n",
    "api_key = \"myaCBEk1XX8eSIOiKYJOj5ksB%2BRl%2BxYCJVn2eaWckckSQnQt8gu6lU2HBqSP5Hsx6Gd8uXpXowCPRTjGJ5yDsw%3D%3D\""
   ]
  },
  {
   "cell_type": "markdown",
   "metadata": {
    "id": "mv_w0Eto-nsw"
   },
   "source": [
    "`datetime` 모듈을 사용하여 어제의 날짜를 구하고, 요청변수의 형식에 맞게 변환합니다.<br>"
   ]
  },
  {
   "cell_type": "code",
   "execution_count": 3,
   "metadata": {
    "executionInfo": {
     "elapsed": 20,
     "status": "ok",
     "timestamp": 1622830509705,
     "user": {
      "displayName": "러리",
      "photoUrl": "https://lh3.googleusercontent.com/a-/AOh14GgiyW87GR11Bhn3mcw2smZocWsVWeRDnTWL71XV=s64",
      "userId": "00990509583653091448"
     },
     "user_tz": -540
    },
    "id": "pMRpPFgR-nsw"
   },
   "outputs": [],
   "source": [
    "import datetime\n",
    "\n",
    "# 2021년 3월 11일부터 가능.\n",
    "# 백신 API가 위 날짜부터 제공되기 때문에.\n",
    "startDate = datetime.datetime(2021, 3, 11)\n",
    "today = datetime.datetime.today()\n",
    "\n",
    "covid19InfStateRequestStartDate =  startDate.strftime(\"%Y%m%d\")\n",
    "covid19InfStateRequestEndDate = today.strftime(\"%Y%m%d\")\n",
    "if debugPrint:\n",
    "    print(covid19InfStateRequestStartDate, covid19InfStateRequestEndDate)\n",
    "\n",
    "vaccineStateRequestStartDate = startDate.strftime(\"%Y-%m-%d\") + \" 00:00:00\"\n",
    "vaccineStateRequestEndDate = today.strftime(\"%Y-%m-%d\") + \" 00:00:00\"\n",
    "if debugPrint:\n",
    "    print(vaccineStateRequestStartDate, vaccineStateRequestEndDate)"
   ]
  },
  {
   "cell_type": "markdown",
   "metadata": {
    "id": "qlMClKDG-nsx"
   },
   "source": [
    "[보건복지부_코로나19 시·도발생_현황](https://www.data.go.kr/data/15043378/openapi.do)에서 데이터를 불러오고 있습니다.<br>\n",
    "데이터의 형태는 XML이고, 필요없는 데이터도 몇 섞여있기에 가공할 필요가 있습니다.\n",
    "\n",
    "해당 데이터의 요청변수는 아래와 같습니다.\n",
    "\n",
    "| 키 이름 | 항목 크기 | 항목 구분 | 항목 설명 | 입력 예시 |\n",
    "| :- | :-: | :-: | :- | :- |\n",
    "| serviceKey | 4 | 필수 | 공공 데이터 포털에서 받은 인증키 | - |\n",
    "| pageNo | 4 | 옵션 | 페이지 번호 | 1 |\n",
    "| numOfRows | 4 | 옵션 | 한 페이지의 결과 수 | 10 |\n",
    "| startCreateDt | 30 | 옵션 | 검색할 생성일 범위의 시작| 20210420 |\n",
    "| endCreateDt | 15 | 옵션 | 검색할 생성일 범위의 종료 | 20210425 |"
   ]
  },
  {
   "cell_type": "code",
   "execution_count": 4,
   "metadata": {
    "executionInfo": {
     "elapsed": 20,
     "status": "ok",
     "timestamp": 1622830509707,
     "user": {
      "displayName": "러리",
      "photoUrl": "https://lh3.googleusercontent.com/a-/AOh14GgiyW87GR11Bhn3mcw2smZocWsVWeRDnTWL71XV=s64",
      "userId": "00990509583653091448"
     },
     "user_tz": -540
    },
    "id": "zCad9mjY-nsx"
   },
   "outputs": [],
   "source": [
    "def loadCovid19InfState(startDate, endDate, pageNo=1, numOfRows=10):\n",
    "    url = \"http://openapi.data.go.kr/openapi/service/rest/Covid19/getCovid19SidoInfStateJson\"\n",
    "    url = url + \"?serviceKey=\" + api_key\n",
    "    \n",
    "    if pageNo != None:\n",
    "        url = url + \"&pageNo=\" + str(pageNo)\n",
    "    if numOfRows != None:\n",
    "        url = url + \"&numOfRows=\" + str(numOfRows)\n",
    "    if startDate != None:\n",
    "        url = url + \"&startCreateDt=\" + str(startDate)\n",
    "    if endDate != None:\n",
    "        url = url + \"&endCreateDt=\" + str(endDate)\n",
    "    return requests.get(url)"
   ]
  },
  {
   "cell_type": "code",
   "execution_count": 5,
   "metadata": {
    "executionInfo": {
     "elapsed": 1756,
     "status": "ok",
     "timestamp": 1622830511445,
     "user": {
      "displayName": "러리",
      "photoUrl": "https://lh3.googleusercontent.com/a-/AOh14GgiyW87GR11Bhn3mcw2smZocWsVWeRDnTWL71XV=s64",
      "userId": "00990509583653091448"
     },
     "user_tz": -540
    },
    "id": "R0A_Y2M4-nsx",
    "scrolled": true
   },
   "outputs": [],
   "source": [
    "covid19InfStateResponse = loadCovid19InfState(startDate=covid19InfStateRequestStartDate, endDate=covid19InfStateRequestEndDate)\n",
    "if debugPrint:\n",
    "    print(covid19InfStateResponse.text)"
   ]
  },
  {
   "cell_type": "markdown",
   "metadata": {
    "id": "BhQfCuK0-nsy"
   },
   "source": [
    "[공공데이터활용지원센터_코로나19 예방접종 통계 데이터 조회 서비스](https://www.data.go.kr/data/15077756/openapi.do)에서 데이터를 불러오고 있습니다.<br>\n",
    "데이터의 형태는 JSON 이고, 필요없는 데이터도 몇 섞여있기에 가공할 필요가 있습니다.\n",
    "\n",
    "현재 해당 API호출에서 `{\"code\":-4,\"msg\":\"등록되지 않은 인증키 입니다.\"}` 라는 대답만 돌아오고 있습니다.<br>\n",
    "여러 방법을 사용해보았으나 문제가 해결되지 않아, 문의 메일을 보내놓고 기다리고 있는 상태입니다.\n",
    "\n",
    "대답을 받았고, 인코딩 및 디코딩의 문제였습니다. 현재 시점에는 해결되었습니다.\n",
    "\n",
    "해당 데이터의 요청변수는 아래와 같습니다.\n",
    "\n",
    "| 키 이름 | 항목 타입 | 항목 구분 | 항목 설명 | 입력 예시 |\n",
    "| :- | :-: | :-: | :- | :- |\n",
    "| serviceKey | string | 필수 | 공공 데이터 포털에서 받은 인증키 | - |\n",
    "| page | int64 | 필수 | 페이지 번호 | 1 |\n",
    "| perPage | int64 | 필수 | 한 페이지의 결과 수 | 10 |\n",
    "| returnType | string | 선택 | 응답의 데이터 타입 (JSON or XML) (기본값 : JSON) | JSON |\n",
    "| cond[baseDate::EQ] | string | 선택 | 요청 일자와 같은 일자의 통계를 가져옴 | 2021-04-25 00:00:00 |\n",
    "| cond[baseDate::LT]] | string | 선택 | 요청 일자 이전의 통계를 가져옴 | 2021-04-25 00:00:00 |\n",
    "| cond[baseDate::LTE] | string | 선택 | 요청 일자 이전이거나 같은 일자의 통계를 가져옴 | 2021-04-25 00:00:00 |\n",
    "| cond[baseDate::GT] | string | 선택 | 요청 일자 이후의 통계를 가져옴 | 2021-04-25 00:00:00 |\n",
    "| cond[baseDate::GTE] | string | 선택 | 요청 일자 이후거나 같은 일자의 통계를 가져옴 | 2021-04-25 00:00:00 |\n",
    "| cond[sido::EQ] | string | 선택 | 지역명칭(시도명) | 서울특별시 |"
   ]
  },
  {
   "cell_type": "code",
   "execution_count": 6,
   "metadata": {
    "executionInfo": {
     "elapsed": 12,
     "status": "ok",
     "timestamp": 1622830511449,
     "user": {
      "displayName": "러리",
      "photoUrl": "https://lh3.googleusercontent.com/a-/AOh14GgiyW87GR11Bhn3mcw2smZocWsVWeRDnTWL71XV=s64",
      "userId": "00990509583653091448"
     },
     "user_tz": -540
    },
    "id": "gqOG3yln-nsy"
   },
   "outputs": [],
   "source": [
    "class DateQueryConditionType:\n",
    "    EQUAL = 1 # 같을 때\n",
    "    BEFORE = 2 # 이전\n",
    "    BEFORE_EQUAL = 3 # 이전이거나 같을 때\n",
    "    AFTER = 4 # 이후\n",
    "    AFTER_EQUAL = 5 # 이후거나 같을 때\n",
    "    \n",
    "    @classmethod\n",
    "    def toString(cls, condType):\n",
    "        '''\n",
    "        int -> string\n",
    "        쿼리 사용을 위해 조건 값을 문자열로 변환한다.\n",
    "        '''\n",
    "        if condType == cls.EQUAL:\n",
    "            return \"cond[baseDate::EQ]\"\n",
    "        elif condType == cls.BEFORE:\n",
    "            return \"cond[baseDate::LT]\"\n",
    "        elif condType == cls.BEFORE_EQUAL:\n",
    "            return \"cond[baseDate::LTE]\"\n",
    "        elif condType == cls.AFTER:\n",
    "            return \"cond[baseDate::GT]\"\n",
    "        elif condType == cls.AFTER_EQUAL:\n",
    "            return \"cond[baseDate::GTE]\"\n",
    "        return \"UNDEFINED\"\n",
    "\n",
    "class VaccineDateQueryCondition:\n",
    "    def __init__(self, date, condType):\n",
    "        self.date = date\n",
    "        self.condType = condType\n",
    "\n",
    "def loadVaccineState(page=1, perPage=10, dateConds=[], sido=\"전국\"):\n",
    "    if not type(dateConds) is list:\n",
    "        print('Error: dateConds 가 리스트가 아닙니다.')\n",
    "        return None\n",
    "    \n",
    "    url = \"https://api.odcloud.kr/api/15077756/v1/vaccine-stat?\"\n",
    "    url = url + f\"serviceKey={api_key}&page={page}&perPage={perPage}\" # 기본 쿼리 데이터 추가\n",
    "    \n",
    "    for dateCond in dateConds: # 날짜 쿼리 데이터 추가\n",
    "        condStr = DateQueryConditionType.toString(dateCond.condType)\n",
    "        url = url + f\"&{condStr}={dateCond.date}\"\n",
    "    \n",
    "    if sido != None: # 시도 쿼리 데이터 추가\n",
    "        url = url + f\"&cond[sido::EQ]={sido}\"\n",
    "    return requests.get(url)"
   ]
  },
  {
   "cell_type": "code",
   "execution_count": 7,
   "metadata": {
    "executionInfo": {
     "elapsed": 1430,
     "status": "ok",
     "timestamp": 1622830512871,
     "user": {
      "displayName": "러리",
      "photoUrl": "https://lh3.googleusercontent.com/a-/AOh14GgiyW87GR11Bhn3mcw2smZocWsVWeRDnTWL71XV=s64",
      "userId": "00990509583653091448"
     },
     "user_tz": -540
    },
    "id": "Aoz1O0iw-nsz",
    "scrolled": true
   },
   "outputs": [],
   "source": [
    "dateConds = []\n",
    "dateConds.append(VaccineDateQueryCondition(vaccineStateRequestStartDate, DateQueryConditionType.AFTER_EQUAL))\n",
    "dateConds.append(VaccineDateQueryCondition(vaccineStateRequestEndDate, DateQueryConditionType.BEFORE_EQUAL))\n",
    "vaccineStateResponse = loadVaccineState(dateConds=dateConds, perPage=100)\n",
    "if debugPrint:\n",
    "    print(vaccineStateResponse.text)"
   ]
  },
  {
   "cell_type": "markdown",
   "metadata": {
    "id": "x_igQYeB-nsz"
   },
   "source": [
    "# 4. 분석을 위한 데이터의 가공"
   ]
  },
  {
   "cell_type": "markdown",
   "metadata": {
    "id": "zmdPOXeV-nsz"
   },
   "source": [
    "위에서 기술했듯이, 각 데이터에는 분석에 필요하지 않은 데이터가 있습니다.<br>\n",
    "파이썬에서 쓰기 편하게 각 항목을 클래스를 이용하여 하나로 묶으면서 필요하지 않은 데이터를 버리도록 하겠습니다.\n",
    "\n",
    "[보건복지부_코로나19 시·도발생_현황](https://www.data.go.kr/data/15043378/openapi.do)에서는 아이디 값, 기준일시, 총 확진자 수, 격리 중인 총 환자 수, 격리 해제된 총 환자 수, 총 사망자 수, 당일 지역발생 수를 하나의 클래스로 묶었습니다.\n",
    "\n",
    "[공공데이터활용지원센터_코로나19 예방접종 통계 데이터 조회 서비스](https://www.data.go.kr/data/15077756/openapi.do)에서는 아이디 값, 기준일시, 당일 1차 접종자 수, 당일 2차 접종자 수, 총합 1차 접종자 수, 총합 2차 접종자 수를 하나의 클래스로 묶었습니다."
   ]
  },
  {
   "cell_type": "code",
   "execution_count": 8,
   "metadata": {
    "executionInfo": {
     "elapsed": 14,
     "status": "ok",
     "timestamp": 1622830512877,
     "user": {
      "displayName": "러리",
      "photoUrl": "https://lh3.googleusercontent.com/a-/AOh14GgiyW87GR11Bhn3mcw2smZocWsVWeRDnTWL71XV=s64",
      "userId": "00990509583653091448"
     },
     "user_tz": -540
    },
    "id": "wut7M86o-ns0"
   },
   "outputs": [],
   "source": [
    "class Covid19InfState:\n",
    "    def __init__(self, baseDate, infections, isolations, released, death, local_occur):\n",
    "        self.baseDate = baseDate # 기준일시\n",
    "        self.infections = int(infections) # 총 확진자 수\n",
    "        self.isolations = int(isolations) # 격리 중인 총 환자 수\n",
    "        self.released = int(released) # 격리 해제된 총 환자 수\n",
    "        self.death = int(death) # 총 사망자 수\n",
    "        self.local_occur = int(local_occur) # 당일 지역발생 수\n",
    "    \n",
    "    def __str__(self):\n",
    "        return f'{{baseDate={self.baseDate}, infections={self.infections}, isolations={self.isolations}, released={self.released}, death={self.death}, local_occur={self.local_occur}}}'\n",
    "\n",
    "class VaccineState:\n",
    "    def __init__(self, baseDate, totalPrimaryVaccination, totalSecondaryVaccination):\n",
    "        self.baseDate = baseDate # 기준일시\n",
    "        self.totalPrimaryVaccination = int(totalPrimaryVaccination) # 총합 1차 접종자 수\n",
    "        self.totalSecondaryVaccination = int(totalSecondaryVaccination) # 총합 2차 접종자 수\n",
    "    \n",
    "    def __str__(self):\n",
    "        return f'{{baseDate={self.baseDate}, totalPV={self.totalPrimaryVaccination}, totalSV={self.totalSecondaryVaccination}}}'\n",
    "    "
   ]
  },
  {
   "cell_type": "markdown",
   "metadata": {
    "id": "truEEmoB-ns0"
   },
   "source": [
    "코로나19 발생 현황 데이터를 위에서 만든 `Covid19InfState` 클래스에 맞춰서 넣기 위해 XML을 파싱하고, 객체를 생성하여 리스트에 넣습니다."
   ]
  },
  {
   "cell_type": "code",
   "execution_count": 9,
   "metadata": {
    "executionInfo": {
     "elapsed": 3303,
     "status": "ok",
     "timestamp": 1622830516169,
     "user": {
      "displayName": "러리",
      "photoUrl": "https://lh3.googleusercontent.com/a-/AOh14GgiyW87GR11Bhn3mcw2smZocWsVWeRDnTWL71XV=s64",
      "userId": "00990509583653091448"
     },
     "user_tz": -540
    },
    "id": "tFdXDbHJ-ns1",
    "scrolled": false
   },
   "outputs": [],
   "source": [
    "import xml.etree.ElementTree as elemTree\n",
    "\n",
    "covid19InfStateList = []\n",
    "\n",
    "tree = elemTree.fromstring(covid19InfStateResponse.text) # XML\n",
    "items = tree.find('./body/items')\n",
    "\n",
    "for item in items.findall('item'):\n",
    "    gubun = item.find('gubun').text\n",
    "    if gubun == '합계':\n",
    "        baseDate = item.find('stdDay').text\n",
    "        infections = item.find('defCnt').text\n",
    "        isolations = item.find('isolIngCnt').text\n",
    "        released = item.find('isolClearCnt').text\n",
    "        death = item.find('deathCnt').text\n",
    "        local_occur = item.find('localOccCnt').text\n",
    "        \n",
    "        newCovid19InfState = Covid19InfState(baseDate, infections, isolations, released, death, local_occur)\n",
    "        if debugPrint:\n",
    "            print(newCovid19InfState)\n",
    "        \n",
    "        covid19InfStateList.insert(0, newCovid19InfState)"
   ]
  },
  {
   "cell_type": "markdown",
   "metadata": {
    "id": "QH82Tr73-ns1"
   },
   "source": [
    "코로나19 예방접종 현황 데이터를 위에서 만든 `VaccineState` 클래스에 맞춰서 넣기 위해 JSON을 파싱하고, 객체를 생성하여 리스트에 넣습니다."
   ]
  },
  {
   "cell_type": "code",
   "execution_count": 10,
   "metadata": {
    "executionInfo": {
     "elapsed": 65,
     "status": "ok",
     "timestamp": 1622830516177,
     "user": {
      "displayName": "러리",
      "photoUrl": "https://lh3.googleusercontent.com/a-/AOh14GgiyW87GR11Bhn3mcw2smZocWsVWeRDnTWL71XV=s64",
      "userId": "00990509583653091448"
     },
     "user_tz": -540
    },
    "id": "I27O4nCz-ns1",
    "scrolled": false
   },
   "outputs": [],
   "source": [
    "import json\n",
    "\n",
    "vaccineStateList = []\n",
    "\n",
    "jsonObject = json.loads(vaccineStateResponse.text) # JSON\n",
    "dataList = jsonObject.get(\"data\")\n",
    "\n",
    "for idx, data in enumerate(dataList):\n",
    "    baseDate = data.get(\"baseDate\")\n",
    "    totalPV = data.get(\"totalFirstCnt\")\n",
    "    totalSV = data.get(\"totalSecondCnt\")\n",
    "    \n",
    "    newVaccineState = VaccineState(baseDate, totalPV, totalSV)\n",
    "    if debugPrint:\n",
    "        print(newVaccineState)\n",
    "    \n",
    "    vaccineStateList.append(newVaccineState)"
   ]
  },
  {
   "cell_type": "markdown",
   "metadata": {
    "id": "kQIFgtOg-ns1"
   },
   "source": [
    "데이터 분석을 더 쉽게 하기 위해 `Pandas`를 사용합니다."
   ]
  },
  {
   "cell_type": "code",
   "execution_count": 11,
   "metadata": {
    "executionInfo": {
     "elapsed": 62,
     "status": "ok",
     "timestamp": 1622830516179,
     "user": {
      "displayName": "러리",
      "photoUrl": "https://lh3.googleusercontent.com/a-/AOh14GgiyW87GR11Bhn3mcw2smZocWsVWeRDnTWL71XV=s64",
      "userId": "00990509583653091448"
     },
     "user_tz": -540
    },
    "id": "nJl6QFRe-ns2"
   },
   "outputs": [],
   "source": [
    "import pandas as pd"
   ]
  },
  {
   "cell_type": "code",
   "execution_count": 12,
   "metadata": {
    "executionInfo": {
     "elapsed": 59,
     "status": "ok",
     "timestamp": 1622830516180,
     "user": {
      "displayName": "러리",
      "photoUrl": "https://lh3.googleusercontent.com/a-/AOh14GgiyW87GR11Bhn3mcw2smZocWsVWeRDnTWL71XV=s64",
      "userId": "00990509583653091448"
     },
     "user_tz": -540
    },
    "id": "uieDySgX-ns2"
   },
   "outputs": [],
   "source": [
    "covid19InfStateDict = dict()\n",
    "\n",
    "covid19InfStateDict['BaseDate'] = []\n",
    "covid19InfStateDict['Infections'] = []\n",
    "covid19InfStateDict['Isolations'] = []\n",
    "covid19InfStateDict['Released'] = []\n",
    "covid19InfStateDict['Death'] = []\n",
    "covid19InfStateDict['Local_Occur'] = []\n",
    "\n",
    "for state in covid19InfStateList:\n",
    "    rawDate = state.baseDate\n",
    "    formattedDate = rawDate[0:4] + rawDate[6:8] + rawDate[10:12]\n",
    "    \n",
    "    covid19InfStateDict['BaseDate'].append(formattedDate)\n",
    "    covid19InfStateDict['Infections'].append(state.infections)\n",
    "    covid19InfStateDict['Isolations'].append(state.isolations)\n",
    "    covid19InfStateDict['Released'].append(state.released)\n",
    "    covid19InfStateDict['Death'].append(state.death)\n",
    "    covid19InfStateDict['Local_Occur'].append(state.local_occur)\n",
    "\n",
    "covid19InfStateDataFrame = pd.DataFrame(covid19InfStateDict)\n",
    "\n",
    "if debugPrint:\n",
    "    print(covid19InfStateDataFrame)"
   ]
  },
  {
   "cell_type": "code",
   "execution_count": 13,
   "metadata": {
    "executionInfo": {
     "elapsed": 58,
     "status": "ok",
     "timestamp": 1622830516181,
     "user": {
      "displayName": "러리",
      "photoUrl": "https://lh3.googleusercontent.com/a-/AOh14GgiyW87GR11Bhn3mcw2smZocWsVWeRDnTWL71XV=s64",
      "userId": "00990509583653091448"
     },
     "user_tz": -540
    },
    "id": "bddqiJ3o-ns2"
   },
   "outputs": [],
   "source": [
    "vaccineStateDict = dict()\n",
    "\n",
    "vaccineStateDict['BaseDate'] = []\n",
    "vaccineStateDict['TotalPV'] = []\n",
    "vaccineStateDict['TotalSV'] = []\n",
    "\n",
    "for state in vaccineStateList:\n",
    "    rawDate = state.baseDate\n",
    "    formattedDate = rawDate[0:4] + rawDate[5:7] + rawDate[8:10]\n",
    "    \n",
    "    vaccineStateDict['BaseDate'].append(formattedDate)\n",
    "    vaccineStateDict['TotalPV'].append(state.totalPrimaryVaccination)\n",
    "    vaccineStateDict['TotalSV'].append(state.totalSecondaryVaccination)\n",
    "\n",
    "vaccineStateDataFrame = pd.DataFrame(vaccineStateDict)\n",
    "\n",
    "if debugPrint:\n",
    "    print(vaccineStateDataFrame)"
   ]
  },
  {
   "cell_type": "markdown",
   "metadata": {
    "id": "EpqtlTOs-ns2"
   },
   "source": [
    "만들어진 `DataFrame`의 정보입니다."
   ]
  },
  {
   "cell_type": "code",
   "execution_count": 14,
   "metadata": {
    "colab": {
     "base_uri": "https://localhost:8080/"
    },
    "executionInfo": {
     "elapsed": 57,
     "status": "ok",
     "timestamp": 1622830516182,
     "user": {
      "displayName": "러리",
      "photoUrl": "https://lh3.googleusercontent.com/a-/AOh14GgiyW87GR11Bhn3mcw2smZocWsVWeRDnTWL71XV=s64",
      "userId": "00990509583653091448"
     },
     "user_tz": -540
    },
    "id": "PQNBDNVw-ns3",
    "outputId": "518ef18f-f66e-4086-b972-bf1c7da49a61"
   },
   "outputs": [
    {
     "name": "stdout",
     "output_type": "stream",
     "text": [
      "<class 'pandas.core.frame.DataFrame'>\n",
      "RangeIndex: 88 entries, 0 to 87\n",
      "Data columns (total 6 columns):\n",
      " #   Column       Non-Null Count  Dtype \n",
      "---  ------       --------------  ----- \n",
      " 0   BaseDate     88 non-null     object\n",
      " 1   Infections   88 non-null     int64 \n",
      " 2   Isolations   88 non-null     int64 \n",
      " 3   Released     88 non-null     int64 \n",
      " 4   Death        88 non-null     int64 \n",
      " 5   Local_Occur  88 non-null     int64 \n",
      "dtypes: int64(5), object(1)\n",
      "memory usage: 4.2+ KB\n"
     ]
    }
   ],
   "source": [
    "covid19InfStateDataFrame.info()"
   ]
  },
  {
   "cell_type": "code",
   "execution_count": 15,
   "metadata": {
    "colab": {
     "base_uri": "https://localhost:8080/"
    },
    "executionInfo": {
     "elapsed": 49,
     "status": "ok",
     "timestamp": 1622830516183,
     "user": {
      "displayName": "러리",
      "photoUrl": "https://lh3.googleusercontent.com/a-/AOh14GgiyW87GR11Bhn3mcw2smZocWsVWeRDnTWL71XV=s64",
      "userId": "00990509583653091448"
     },
     "user_tz": -540
    },
    "id": "QvQirUTu-ns4",
    "outputId": "192de5f6-264f-46cf-a3f7-f7acf09d06dd",
    "scrolled": false
   },
   "outputs": [
    {
     "name": "stdout",
     "output_type": "stream",
     "text": [
      "<class 'pandas.core.frame.DataFrame'>\n",
      "RangeIndex: 88 entries, 0 to 87\n",
      "Data columns (total 3 columns):\n",
      " #   Column    Non-Null Count  Dtype \n",
      "---  ------    --------------  ----- \n",
      " 0   BaseDate  88 non-null     object\n",
      " 1   TotalPV   88 non-null     int64 \n",
      " 2   TotalSV   88 non-null     int64 \n",
      "dtypes: int64(2), object(1)\n",
      "memory usage: 2.2+ KB\n"
     ]
    }
   ],
   "source": [
    "vaccineStateDataFrame.info()"
   ]
  },
  {
   "cell_type": "markdown",
   "metadata": {
    "id": "fwLdzoQ--ns4"
   },
   "source": [
    "하나의 `DataFrame`으로 만듭니다."
   ]
  },
  {
   "cell_type": "code",
   "execution_count": 16,
   "metadata": {
    "colab": {
     "base_uri": "https://localhost:8080/"
    },
    "executionInfo": {
     "elapsed": 42,
     "status": "ok",
     "timestamp": 1622830516184,
     "user": {
      "displayName": "러리",
      "photoUrl": "https://lh3.googleusercontent.com/a-/AOh14GgiyW87GR11Bhn3mcw2smZocWsVWeRDnTWL71XV=s64",
      "userId": "00990509583653091448"
     },
     "user_tz": -540
    },
    "id": "pnIgAt6--ns4",
    "outputId": "e2da9cca-6f0b-40f0-cfec-49a3c3c7c58f",
    "scrolled": false
   },
   "outputs": [
    {
     "name": "stdout",
     "output_type": "stream",
     "text": [
      "<class 'pandas.core.frame.DataFrame'>\n",
      "Int64Index: 88 entries, 0 to 87\n",
      "Data columns (total 8 columns):\n",
      " #   Column       Non-Null Count  Dtype \n",
      "---  ------       --------------  ----- \n",
      " 0   BaseDate     88 non-null     object\n",
      " 1   Infections   88 non-null     int64 \n",
      " 2   Isolations   88 non-null     int64 \n",
      " 3   Released     88 non-null     int64 \n",
      " 4   Death        88 non-null     int64 \n",
      " 5   Local_Occur  88 non-null     int64 \n",
      " 6   TotalPV      88 non-null     int64 \n",
      " 7   TotalSV      88 non-null     int64 \n",
      "dtypes: int64(7), object(1)\n",
      "memory usage: 6.2+ KB\n"
     ]
    }
   ],
   "source": [
    "infoDF = pd.merge(covid19InfStateDataFrame, vaccineStateDataFrame, on='BaseDate')\n",
    "infoDF.info()"
   ]
  },
  {
   "cell_type": "markdown",
   "metadata": {
    "id": "OxN9gYMZ-ns4"
   },
   "source": [
    "`BaseDate`열의 타입이 `object`입니다.<br>\n",
    "타입이 `object`일 때는 제대로 처리되지 않습니닫. 이를 처리할 수 있도록, 날짜 타입인 `datetime`으로 변환해줍니다."
   ]
  },
  {
   "cell_type": "code",
   "execution_count": 17,
   "metadata": {
    "colab": {
     "base_uri": "https://localhost:8080/"
    },
    "executionInfo": {
     "elapsed": 38,
     "status": "ok",
     "timestamp": 1622830516185,
     "user": {
      "displayName": "러리",
      "photoUrl": "https://lh3.googleusercontent.com/a-/AOh14GgiyW87GR11Bhn3mcw2smZocWsVWeRDnTWL71XV=s64",
      "userId": "00990509583653091448"
     },
     "user_tz": -540
    },
    "id": "slOOp9K--ns4",
    "outputId": "d8666d1a-a92a-4d3c-ef10-62a102f7fe49"
   },
   "outputs": [
    {
     "name": "stdout",
     "output_type": "stream",
     "text": [
      "<class 'pandas.core.frame.DataFrame'>\n",
      "Int64Index: 88 entries, 0 to 87\n",
      "Data columns (total 8 columns):\n",
      " #   Column       Non-Null Count  Dtype         \n",
      "---  ------       --------------  -----         \n",
      " 0   BaseDate     88 non-null     datetime64[ns]\n",
      " 1   Infections   88 non-null     int64         \n",
      " 2   Isolations   88 non-null     int64         \n",
      " 3   Released     88 non-null     int64         \n",
      " 4   Death        88 non-null     int64         \n",
      " 5   Local_Occur  88 non-null     int64         \n",
      " 6   TotalPV      88 non-null     int64         \n",
      " 7   TotalSV      88 non-null     int64         \n",
      "dtypes: datetime64[ns](1), int64(7)\n",
      "memory usage: 6.2 KB\n"
     ]
    }
   ],
   "source": [
    "infoDF['BaseDate'] = pd.to_datetime(infoDF['BaseDate'], format=\"%Y%m%d\")\n",
    "infoDF.info()"
   ]
  },
  {
   "cell_type": "code",
   "execution_count": 18,
   "metadata": {
    "colab": {
     "base_uri": "https://localhost:8080/",
     "height": 419
    },
    "executionInfo": {
     "elapsed": 31,
     "status": "ok",
     "timestamp": 1622830516186,
     "user": {
      "displayName": "러리",
      "photoUrl": "https://lh3.googleusercontent.com/a-/AOh14GgiyW87GR11Bhn3mcw2smZocWsVWeRDnTWL71XV=s64",
      "userId": "00990509583653091448"
     },
     "user_tz": -540
    },
    "id": "79FYTjCf-ns5",
    "outputId": "4e381f6b-1ca0-4323-c75d-9095e8cd8716",
    "scrolled": false
   },
   "outputs": [
    {
     "data": {
      "text/html": [
       "<div>\n",
       "<style scoped>\n",
       "    .dataframe tbody tr th:only-of-type {\n",
       "        vertical-align: middle;\n",
       "    }\n",
       "\n",
       "    .dataframe tbody tr th {\n",
       "        vertical-align: top;\n",
       "    }\n",
       "\n",
       "    .dataframe thead th {\n",
       "        text-align: right;\n",
       "    }\n",
       "</style>\n",
       "<table border=\"1\" class=\"dataframe\">\n",
       "  <thead>\n",
       "    <tr style=\"text-align: right;\">\n",
       "      <th></th>\n",
       "      <th>BaseDate</th>\n",
       "      <th>Infections</th>\n",
       "      <th>Isolations</th>\n",
       "      <th>Released</th>\n",
       "      <th>Death</th>\n",
       "      <th>Local_Occur</th>\n",
       "      <th>TotalPV</th>\n",
       "      <th>TotalSV</th>\n",
       "    </tr>\n",
       "  </thead>\n",
       "  <tbody>\n",
       "    <tr>\n",
       "      <th>0</th>\n",
       "      <td>2021-03-11</td>\n",
       "      <td>94198</td>\n",
       "      <td>7871</td>\n",
       "      <td>84675</td>\n",
       "      <td>1652</td>\n",
       "      <td>444</td>\n",
       "      <td>500635</td>\n",
       "      <td>0</td>\n",
       "    </tr>\n",
       "    <tr>\n",
       "      <th>1</th>\n",
       "      <td>2021-03-12</td>\n",
       "      <td>94686</td>\n",
       "      <td>7281</td>\n",
       "      <td>85743</td>\n",
       "      <td>1662</td>\n",
       "      <td>467</td>\n",
       "      <td>546277</td>\n",
       "      <td>0</td>\n",
       "    </tr>\n",
       "    <tr>\n",
       "      <th>2</th>\n",
       "      <td>2021-03-13</td>\n",
       "      <td>95176</td>\n",
       "      <td>6884</td>\n",
       "      <td>86625</td>\n",
       "      <td>1667</td>\n",
       "      <td>474</td>\n",
       "      <td>583658</td>\n",
       "      <td>0</td>\n",
       "    </tr>\n",
       "    <tr>\n",
       "      <th>3</th>\n",
       "      <td>2021-03-14</td>\n",
       "      <td>95635</td>\n",
       "      <td>6558</td>\n",
       "      <td>87408</td>\n",
       "      <td>1669</td>\n",
       "      <td>436</td>\n",
       "      <td>587884</td>\n",
       "      <td>0</td>\n",
       "    </tr>\n",
       "    <tr>\n",
       "      <th>4</th>\n",
       "      <td>2021-03-15</td>\n",
       "      <td>96011</td>\n",
       "      <td>6582</td>\n",
       "      <td>87754</td>\n",
       "      <td>1675</td>\n",
       "      <td>367</td>\n",
       "      <td>588958</td>\n",
       "      <td>0</td>\n",
       "    </tr>\n",
       "    <tr>\n",
       "      <th>...</th>\n",
       "      <td>...</td>\n",
       "      <td>...</td>\n",
       "      <td>...</td>\n",
       "      <td>...</td>\n",
       "      <td>...</td>\n",
       "      <td>...</td>\n",
       "      <td>...</td>\n",
       "      <td>...</td>\n",
       "    </tr>\n",
       "    <tr>\n",
       "      <th>83</th>\n",
       "      <td>2021-06-02</td>\n",
       "      <td>141476</td>\n",
       "      <td>7443</td>\n",
       "      <td>132068</td>\n",
       "      <td>1965</td>\n",
       "      <td>654</td>\n",
       "      <td>6358512</td>\n",
       "      <td>2198010</td>\n",
       "    </tr>\n",
       "    <tr>\n",
       "      <th>84</th>\n",
       "      <td>2021-06-03</td>\n",
       "      <td>142157</td>\n",
       "      <td>7490</td>\n",
       "      <td>132699</td>\n",
       "      <td>1968</td>\n",
       "      <td>672</td>\n",
       "      <td>6741993</td>\n",
       "      <td>2220728</td>\n",
       "    </tr>\n",
       "    <tr>\n",
       "      <th>85</th>\n",
       "      <td>2021-06-04</td>\n",
       "      <td>142852</td>\n",
       "      <td>7594</td>\n",
       "      <td>133289</td>\n",
       "      <td>1969</td>\n",
       "      <td>674</td>\n",
       "      <td>7086292</td>\n",
       "      <td>2247008</td>\n",
       "    </tr>\n",
       "    <tr>\n",
       "      <th>86</th>\n",
       "      <td>2021-06-05</td>\n",
       "      <td>143596</td>\n",
       "      <td>7862</td>\n",
       "      <td>133763</td>\n",
       "      <td>1971</td>\n",
       "      <td>725</td>\n",
       "      <td>7455726</td>\n",
       "      <td>2277137</td>\n",
       "    </tr>\n",
       "    <tr>\n",
       "      <th>87</th>\n",
       "      <td>2021-06-06</td>\n",
       "      <td>144152</td>\n",
       "      <td>7917</td>\n",
       "      <td>134262</td>\n",
       "      <td>1973</td>\n",
       "      <td>541</td>\n",
       "      <td>7595072</td>\n",
       "      <td>2279596</td>\n",
       "    </tr>\n",
       "  </tbody>\n",
       "</table>\n",
       "<p>88 rows × 8 columns</p>\n",
       "</div>"
      ],
      "text/plain": [
       "     BaseDate  Infections  Isolations  Released  Death  Local_Occur  TotalPV  \\\n",
       "0  2021-03-11       94198        7871     84675   1652          444   500635   \n",
       "1  2021-03-12       94686        7281     85743   1662          467   546277   \n",
       "2  2021-03-13       95176        6884     86625   1667          474   583658   \n",
       "3  2021-03-14       95635        6558     87408   1669          436   587884   \n",
       "4  2021-03-15       96011        6582     87754   1675          367   588958   \n",
       "..        ...         ...         ...       ...    ...          ...      ...   \n",
       "83 2021-06-02      141476        7443    132068   1965          654  6358512   \n",
       "84 2021-06-03      142157        7490    132699   1968          672  6741993   \n",
       "85 2021-06-04      142852        7594    133289   1969          674  7086292   \n",
       "86 2021-06-05      143596        7862    133763   1971          725  7455726   \n",
       "87 2021-06-06      144152        7917    134262   1973          541  7595072   \n",
       "\n",
       "    TotalSV  \n",
       "0         0  \n",
       "1         0  \n",
       "2         0  \n",
       "3         0  \n",
       "4         0  \n",
       "..      ...  \n",
       "83  2198010  \n",
       "84  2220728  \n",
       "85  2247008  \n",
       "86  2277137  \n",
       "87  2279596  \n",
       "\n",
       "[88 rows x 8 columns]"
      ]
     },
     "execution_count": 18,
     "metadata": {},
     "output_type": "execute_result"
    }
   ],
   "source": [
    "infoDF"
   ]
  },
  {
   "cell_type": "code",
   "execution_count": 19,
   "metadata": {
    "colab": {
     "base_uri": "https://localhost:8080/",
     "height": 283
    },
    "executionInfo": {
     "elapsed": 428,
     "status": "ok",
     "timestamp": 1622830516589,
     "user": {
      "displayName": "러리",
      "photoUrl": "https://lh3.googleusercontent.com/a-/AOh14GgiyW87GR11Bhn3mcw2smZocWsVWeRDnTWL71XV=s64",
      "userId": "00990509583653091448"
     },
     "user_tz": -540
    },
    "id": "MPDbkns0I37-",
    "outputId": "3400ca66-d2f6-40b0-acc9-5589937aaae2"
   },
   "outputs": [
    {
     "data": {
      "text/plain": [
       "<AxesSubplot:>"
      ]
     },
     "execution_count": 19,
     "metadata": {},
     "output_type": "execute_result"
    },
    {
     "data": {
      "image/png": "[encoded data removed]",
      "text/plain": [
       "<Figure size 432x288 with 1 Axes>"
      ]
     },
     "metadata": {
      "needs_background": "light"
     },
     "output_type": "display_data"
    }
   ],
   "source": [
    "infoDF['Infections'].plot()"
   ]
  },
  {
   "cell_type": "markdown",
   "metadata": {
    "id": "3wBD8Y9TEfBe"
   },
   "source": [
    "# 5. 분석 결과 도출"
   ]
  },
  {
   "cell_type": "markdown",
   "metadata": {
    "id": "QnqtXzf6-ns5"
   },
   "source": [
    "어느 날짜까지 예측할지 결정합니다."
   ]
  },
  {
   "cell_type": "code",
   "execution_count": 20,
   "metadata": {
    "executionInfo": {
     "elapsed": 20,
     "status": "ok",
     "timestamp": 1622830516593,
     "user": {
      "displayName": "러리",
      "photoUrl": "https://lh3.googleusercontent.com/a-/AOh14GgiyW87GR11Bhn3mcw2smZocWsVWeRDnTWL71XV=s64",
      "userId": "00990509583653091448"
     },
     "user_tz": -540
    },
    "id": "smM3bgd3-ns5"
   },
   "outputs": [],
   "source": [
    "today = datetime.datetime.today()\n",
    "predictDays = 730 # 오늘로부터 2년 후까지 예측"
   ]
  },
  {
   "cell_type": "markdown",
   "metadata": {
    "id": "tDPr5uRI-ns5"
   },
   "source": [
    "아래부터 각 항목에 대한 예측을 합니다.\n",
    "\n",
    "격리 중인 총 환자 수와 당일 지역발생 수는 다음의 이유로 제외합니다.\n",
    "- 누적형 데이터가 아님\n",
    "- 격리 중인 총 환자 수는 백신 접종과 거의 무관하다 판단\n",
    "- 당일 지역발생 수는 총 확진자 수로 거의 대체 가능하다 판단"
   ]
  },
  {
   "cell_type": "code",
   "execution_count": 21,
   "metadata": {
    "executionInfo": {
     "elapsed": 533,
     "status": "ok",
     "timestamp": 1622830517108,
     "user": {
      "displayName": "러리",
      "photoUrl": "https://lh3.googleusercontent.com/a-/AOh14GgiyW87GR11Bhn3mcw2smZocWsVWeRDnTWL71XV=s64",
      "userId": "00990509583653091448"
     },
     "user_tz": -540
    },
    "id": "D3W4JJPk_7n1"
   },
   "outputs": [],
   "source": [
    "from sklearn.model_selection import train_test_split\n",
    "from sklearn.linear_model import LinearRegression      # 선형 회귀 분석\n",
    "from sklearn.preprocessing import PolynomialFeatures   # 다항식 변환"
   ]
  },
  {
   "cell_type": "code",
   "execution_count": 22,
   "metadata": {
    "executionInfo": {
     "elapsed": 48,
     "status": "ok",
     "timestamp": 1622830517116,
     "user": {
      "displayName": "러리",
      "photoUrl": "https://lh3.googleusercontent.com/a-/AOh14GgiyW87GR11Bhn3mcw2smZocWsVWeRDnTWL71XV=s64",
      "userId": "00990509583653091448"
     },
     "user_tz": -540
    },
    "id": "iBwMDgv4_7s7"
   },
   "outputs": [],
   "source": [
    "def predict(yRowName):\n",
    "  X=infoDF[['BaseDate']]  # 독립 변수 X\n",
    "  y=infoDF[yRowName]  # 종속 변수 Y\n",
    "\n",
    "  poly = PolynomialFeatures(degree=4)\n",
    "  X = poly.fit_transform(X)\n",
    "\n",
    "  X_train, X_test, y_train, y_test = train_test_split(X, y, test_size=0.3, random_state=10)\n",
    "\n",
    "  pr = LinearRegression()\n",
    "  pr.fit(X_train, y_train)\n",
    "\n",
    "  target = []\n",
    "  \n",
    "  cursor = today\n",
    "  for i in range(predictDays):\n",
    "    cursor = cursor + datetime.timedelta(days=1)\n",
    "    target.append(cursor.strftime(\"%Y-%m-%d\"))\n",
    "  \n",
    "  targetDict = dict()\n",
    "  targetDict['BaseDate'] = target\n",
    "\n",
    "  targetDF = pd.DataFrame(targetDict)\n",
    "  targetDF['BaseDate'] = pd.to_datetime(targetDF['BaseDate'], format=\"%Y-%m-%d\")\n",
    "\n",
    "  targetDFPoly = poly.fit_transform(targetDF)\n",
    "\n",
    "  return pr.predict(targetDFPoly)"
   ]
  },
  {
   "cell_type": "code",
   "execution_count": 23,
   "metadata": {
    "executionInfo": {
     "elapsed": 47,
     "status": "ok",
     "timestamp": 1622830517117,
     "user": {
      "displayName": "러리",
      "photoUrl": "https://lh3.googleusercontent.com/a-/AOh14GgiyW87GR11Bhn3mcw2smZocWsVWeRDnTWL71XV=s64",
      "userId": "00990509583653091448"
     },
     "user_tz": -540
    },
    "id": "TrzwCUbgFcez"
   },
   "outputs": [],
   "source": [
    "infResult = predict('Infections')\n",
    "relResut = predict('Released')\n",
    "deaResult = predict('Death')\n",
    "pvResult = predict('TotalPV')\n",
    "svResult = predict('TotalSV')"
   ]
  },
  {
   "cell_type": "code",
   "execution_count": 24,
   "metadata": {
    "colab": {
     "base_uri": "https://localhost:8080/"
    },
    "executionInfo": {
     "elapsed": 47,
     "status": "ok",
     "timestamp": 1622830517119,
     "user": {
      "displayName": "러리",
      "photoUrl": "https://lh3.googleusercontent.com/a-/AOh14GgiyW87GR11Bhn3mcw2smZocWsVWeRDnTWL71XV=s64",
      "userId": "00990509583653091448"
     },
     "user_tz": -540
    },
    "id": "4A_GJ1k5PDZs",
    "outputId": "711745ab-a2ca-4c89-afdb-06b8ed9c163d"
   },
   "outputs": [
    {
     "data": {
      "text/plain": [
       "array([144517.43766563, 145117.34617924, 145717.35050193, 146317.45064388,\n",
       "       146917.64661532, 147517.93842643, 148118.32608741, 148718.80960848,\n",
       "       149319.38899983, 149920.06427167, 150520.8354342 , 151121.70249762,\n",
       "       151722.66547214, 152323.72436798, 152924.87919532, 153526.12996438,\n",
       "       154127.47668537, 154728.9193685 , 155330.45802397, 155932.09266199,\n",
       "       156533.82329278, 157135.64992654, 157737.57257348, 158339.59124381,\n",
       "       158941.70594775, 159543.91669551, 160146.2234973 , 160748.62636333,\n",
       "       161351.12530382, 161953.72032898, 162556.41144903, 163159.19867419,\n",
       "       163762.08201466, 164365.06148067, 164968.13708243, 165571.30883016,\n",
       "       166174.57673408, 166777.94080441, 167381.40105137, 167984.95748517,\n",
       "       168588.61011604, 169192.3589542 , 169796.20400986, 170400.14529326,\n",
       "       171004.18281461, 171608.31658414, 172212.54661208, 172816.87290863,\n",
       "       173421.29548404, 174025.81434852, 174630.42951231, 175235.14098562,\n",
       "       175839.94877868, 176444.85290173, 177049.85336499, 177654.95017868,\n",
       "       178260.14335304, 178865.43289831, 179470.81882469, 180076.30114244,\n",
       "       180681.87986178, 181287.55499293, 181893.32654614, 182499.19453164,\n",
       "       183105.15895966, 183711.21984043, 184317.37718419, 184923.63100117,\n",
       "       185529.98130161, 186136.42809575, 186742.97139382, 187349.61120606,\n",
       "       187956.3475427 , 188563.18041399, 189170.10983017, 189777.13580147,\n",
       "       190384.25833813, 190991.4774504 , 191598.79314851, 192206.20544271,\n",
       "       192813.71434323, 193421.31986033, 194029.02200425, 194636.82078522,\n",
       "       195244.71621349, 195852.70829932, 196460.79705293, 197068.98248459,\n",
       "       197677.26460453, 198285.643423  , 198894.11895025, 199502.69119653,\n",
       "       200111.36017209, 200720.12588717, 201328.98835203, 201937.94757692,\n",
       "       202547.00357208, 203156.15634777, 203765.40591424, 204374.75228174,\n",
       "       204984.19546053, 205593.73546086, 206203.37229298, 206813.10596715,\n",
       "       207422.93649362, 208032.86388265, 208642.88814449, 209253.00928941,\n",
       "       209863.22732765, 210473.54226949, 211083.95412516, 211694.46290494,\n",
       "       212305.06861909, 212915.77127786, 213526.57089151, 214137.46747031,\n",
       "       214748.46102451, 215359.55156439, 215970.7391002 , 216582.0236422 ,\n",
       "       217193.40520066, 217804.88378585, 218416.45940802, 219028.13207745,\n",
       "       219639.9018044 , 220251.76859913, 220863.73247192, 221475.79343303,\n",
       "       222087.95149273, 222700.20666129, 223312.55894897, 223925.00836606,\n",
       "       224537.55492281, 225150.1986295 , 225762.9394964 , 226375.77753378,\n",
       "       226988.71275192, 227601.74516108, 228214.87477155, 228828.10159359,\n",
       "       229441.42563748, 230054.8469135 , 230668.36543192, 231281.98120301,\n",
       "       231895.69423707, 232509.50454435, 233123.41213514, 233737.41701972,\n",
       "       234351.51920837, 234965.71871137, 235580.01553899, 236194.40970152,\n",
       "       236808.90120924, 237423.49007243, 238038.17630138, 238652.95990636,\n",
       "       239267.84089766, 239882.81928556, 240497.89508035, 241113.06829231,\n",
       "       241728.33893173, 242343.7070089 , 242959.1725341 , 243574.73551762,\n",
       "       244190.39596974, 244806.15390075, 245422.00932096, 246037.96224063,\n",
       "       246654.01267006, 247270.16061955, 247886.40609938, 248502.74911985,\n",
       "       249119.18969125, 249735.72782386, 250352.36352799, 250969.09681393,\n",
       "       251585.92769196, 252202.8561724 , 252819.88226552, 253437.00598163,\n",
       "       254054.22733103, 254671.54632401, 255288.96297086, 255906.47728189,\n",
       "       256524.0892674 , 257141.79893768, 257759.60630304, 258377.51137376,\n",
       "       258995.51416017, 259613.61467255, 260231.8129212 , 260850.10891644,\n",
       "       261468.50266856, 262086.99418787, 262705.58348467, 263324.27056926,\n",
       "       263943.05545195, 264561.93814305, 265180.91865287, 265799.9969917 ,\n",
       "       266419.17316986, 267038.44719765, 267657.81908538, 268277.28884337,\n",
       "       268896.85648192, 269516.52201133, 270136.28544193, 270756.14678402,\n",
       "       271376.10604792, 271996.16324393, 272616.31838237, 273236.57147356,\n",
       "       273856.9225278 , 274477.37155541, 275097.9185667 , 275718.563572  ,\n",
       "       276339.30658161, 276960.14760586, 277581.08665505, 278202.12373952,\n",
       "       278823.25886957, 279444.49205552, 280065.8233077 , 280687.25263643,\n",
       "       281308.78005201, 281930.40556479, 282552.12918506, 283173.95092317,\n",
       "       283795.87078943, 284417.88879416, 285040.00494769, 285662.21926034,\n",
       "       286284.53174243, 286906.9424043 , 287529.45125627, 288152.05830865,\n",
       "       288774.76357179, 289397.56705601, 290020.46877163, 290643.46872898,\n",
       "       291266.5669384 , 291889.76341021, 292513.05815475, 293136.45118233,\n",
       "       293759.9425033 , 294383.53212799, 295007.22006673, 295631.00632984,\n",
       "       296254.89092767, 296878.87387055, 297502.95516882, 298127.1348328 ,\n",
       "       298751.41287283, 299375.78929925, 300000.2641224 , 300624.83735261,\n",
       "       301249.50900023, 301874.27907558, 302499.14758901, 303124.11455086,\n",
       "       303749.17997146, 304374.34386116, 304999.6062303 , 305624.96708922,\n",
       "       306250.42644827, 306875.98431777, 307501.64070809, 308127.39562955,\n",
       "       308753.24909251, 309379.20110731, 310005.2516843 , 310631.40083382,\n",
       "       311257.64856621, 311883.99489184, 312510.43982103, 313136.98336414,\n",
       "       313763.62553152, 314390.36633352, 315017.20578049, 315644.14388277,\n",
       "       316271.18065073, 316898.3160947 , 317525.55022504, 318152.88305211,\n",
       "       318780.31458625, 319407.84483783, 320035.47381719, 320663.20153468,\n",
       "       321291.02800067, 321918.95322551, 322546.97721956, 323175.09999317,\n",
       "       323803.32155669, 324431.6419205 , 325060.06109494, 325688.57909037,\n",
       "       326317.19591716, 326945.91158566, 327574.72610623, 328203.63948924,\n",
       "       328832.65174505, 329461.76288402, 330090.9729165 , 330720.28185288,\n",
       "       331349.6897035 , 331979.19647873, 332608.80218894, 333238.5068445 ,\n",
       "       333868.31045576, 334498.2130331 , 335128.21458688, 335758.31512747,\n",
       "       336388.51466524, 337018.81321056, 337649.21077379, 338279.70736531,\n",
       "       338910.30299548, 339540.99767468, 340171.79141328, 340802.68422165,\n",
       "       341433.67611016, 342064.76708919, 342695.9571691 , 343327.24636028,\n",
       "       343958.6346731 , 344590.12211792, 345221.70870514, 345853.39444513,\n",
       "       346485.17934825, 347117.06342489, 347749.04668543, 348381.12914024,\n",
       "       349013.31079971, 349645.59167421, 350277.97177413, 350910.45110984,\n",
       "       351543.02969172, 352175.70753017, 352808.48463555, 353441.36101825,\n",
       "       354074.33668866, 354707.41165716, 355340.58593413, 355973.85952996,\n",
       "       356607.23245503, 357240.70471973, 357874.27633445, 358507.94730957,\n",
       "       359141.71765549, 359775.58738258, 360409.55650124, 361043.62502186,\n",
       "       361677.79295483, 362312.06031053, 362946.42709937, 363580.89333172,\n",
       "       364215.45901798, 364850.12416855, 365484.88879382, 366119.75290417,\n",
       "       366754.71651002, 367389.77962174, 368024.94224974, 368660.2044044 ,\n",
       "       369295.56609614, 369931.02733534, 370566.5881324 , 371202.24849772,\n",
       "       371838.0084417 , 372473.86797474, 373109.82710723, 373745.88584958,\n",
       "       374382.04421219, 375018.30220546, 375654.65983979, 376291.11712557,\n",
       "       376927.67407323, 377564.33069316, 378201.08699575, 378837.94299143,\n",
       "       379474.89869058, 380111.95410363, 380749.10924097, 381386.36411301,\n",
       "       382023.71873016, 382661.17310282, 383298.72724141, 383936.38115633,\n",
       "       384574.13485799, 385211.98835681, 385849.94166319, 386487.99478754,\n",
       "       387126.14774027, 387764.4005318 , 388402.75317255, 389041.20567291,\n",
       "       389679.75804332, 390318.41029417, 390957.16243589, 391596.01447889,\n",
       "       392234.96643358, 392874.01831039, 393513.17011973, 394152.42187202,\n",
       "       394791.77357767, 395431.22524711, 396070.77689075, 396710.42851902,\n",
       "       397350.18014233, 397990.0317711 , 398629.98341576, 399270.03508672,\n",
       "       399910.18679441, 400550.43854926, 401190.79036168, 401831.24224211,\n",
       "       402471.79420096, 403112.44624865, 403753.19839563, 404394.0506523 ,\n",
       "       405035.00302911, 405676.05553647, 406317.20818481, 406958.46098456,\n",
       "       407599.81394616, 408241.26708003, 408882.82039659, 409524.47390629,\n",
       "       410166.22761955, 410808.0815468 , 411450.03569848, 412092.09008501,\n",
       "       412734.24471684, 413376.49960439, 414018.85475811, 414661.31018841,\n",
       "       415303.86590575, 415946.52192055, 416589.27824326, 417232.1348843 ,\n",
       "       417875.09185413, 418518.14916316, 419161.30682186, 419804.56484064,\n",
       "       420447.92322996, 421091.38200025, 421734.94116196, 422378.60072552,\n",
       "       423022.36070137, 423666.22109997, 424310.18193175, 424954.24320716,\n",
       "       425598.40493664, 426242.66713063, 426887.02979959, 427531.49295395,\n",
       "       428176.05660416, 428820.72076067, 429465.48543393, 430110.35063439,\n",
       "       430755.31637248, 431400.38265867, 432045.5495034 , 432690.81691712,\n",
       "       433336.18491029, 433981.65349335, 434627.22267675, 435272.89247095,\n",
       "       435918.6628864 , 436564.53393356, 437210.50562287, 437856.57796479,\n",
       "       438502.75096978, 439149.0246483 , 439795.39901079, 440441.87406771,\n",
       "       441088.44982953, 441735.1263067 , 442381.90350968, 443028.78144892,\n",
       "       443675.76013489, 444322.83957805, 444970.01978885, 445617.30077776,\n",
       "       446264.68255524, 446912.16513175, 447559.74851775, 448207.43272371,\n",
       "       448855.21776009, 449503.10363736, 450151.09036597, 450799.1779564 ,\n",
       "       451447.36641911, 452095.65576456, 452744.04600323, 453392.53714558,\n",
       "       454041.12920208, 454689.8221832 , 455338.6160994 , 455987.51096116,\n",
       "       456636.50677895, 457285.60356323, 457934.80132448, 458584.10007317,\n",
       "       459233.49981978, 459883.00057477, 460532.60234862, 461182.3051518 ,\n",
       "       461832.10899479, 462482.01388806, 463132.01984209, 463782.12686735,\n",
       "       464432.33497433, 465082.64417349, 465733.05447532, 466383.56589029,\n",
       "       467034.17842889, 467684.89210159, 468335.70691887, 468986.62289122,\n",
       "       469637.6400291 , 470288.75834302, 470939.97784344, 471591.29854085,\n",
       "       472242.72044574, 472894.24356858, 473545.86791986, 474197.59351008,\n",
       "       474849.4203497 , 475501.34844922, 476153.37781912, 476805.5084699 ,\n",
       "       477457.74041203, 478110.07365601, 478762.50821233, 479415.04409147,\n",
       "       480067.68130393, 480720.41986019, 481373.25977074, 482026.20104608,\n",
       "       482679.24369671, 483332.3877331 , 483985.63316575, 484638.98000517,\n",
       "       485292.42826183, 485945.97794624, 486599.6290689 , 487253.38164029,\n",
       "       487907.23567091, 488561.19117126, 489215.24815185, 489869.40662315,\n",
       "       490523.66659568, 491178.02807993, 491832.49108641, 492487.05562561,\n",
       "       493141.72170803, 493796.48934417, 494451.35854454, 495106.32931963,\n",
       "       495761.40167996, 496416.57563602, 497071.85119832, 497727.22837736,\n",
       "       498382.70718365, 499038.28762769, 499693.96971999, 500349.75347105,\n",
       "       501005.63889139, 501661.6259915 , 502317.71478191, 502973.90527311,\n",
       "       503630.19747561, 504286.59139993, 504943.08705658, 505599.68445606,\n",
       "       506256.3836089 , 506913.18452559, 507570.08721665, 508227.09169261,\n",
       "       508884.19796396, 509541.40604122, 510198.71593491, 510856.12765555,\n",
       "       511513.64121365, 512171.25661972, 512828.97388428, 513486.79301786,\n",
       "       514144.71403096, 514802.73693411, 515460.86173782, 516119.08845262,\n",
       "       516777.41708903, 517435.84765756, 518094.38016874, 518753.01463308,\n",
       "       519411.75106112, 520070.58946337, 520729.52985036, 521388.57223261,\n",
       "       522047.71662065, 522706.96302499, 523366.31145618, 524025.76192472,\n",
       "       524685.31444116, 525344.96901601, 526004.7256598 , 526664.58438307,\n",
       "       527324.54519634, 527984.60811014, 528644.77313499, 529305.04028144,\n",
       "       529965.40956001, 530625.88098124, 531286.45455565, 531947.13029378,\n",
       "       532607.90820616, 533268.78830332, 533929.7705958 , 534590.85509414,\n",
       "       535252.04180886, 535913.33075052, 536574.72192963, 537236.21535674,\n",
       "       537897.81104238, 538559.50899711, 539221.30923144, 539883.21175592,\n",
       "       540545.2165811 , 541207.32371751, 541869.53317569, 542531.84496618,\n",
       "       543194.25909953, 543856.77558627, 544519.39443696, 545182.11566213,\n",
       "       545844.93927233, 546507.86527811, 547170.89369   , 547834.02451855,\n",
       "       548497.25777432, 549160.59346784, 549824.03160966, 550487.57221034,\n",
       "       551151.21528041, 551814.96083044, 552478.80887096, 553142.75941253,\n",
       "       553806.8124657 , 554470.96804102, 555135.22614904, 555799.58680032,\n",
       "       556464.0500054 , 557128.61577484, 557793.28411919, 558458.05504901,\n",
       "       559122.92857486, 559787.90470728, 560452.98345684, 561118.16483408,\n",
       "       561783.44884958, 562448.83551388, 563114.32483754, 563779.91683112,\n",
       "       564445.61150519, 565111.4088703 , 565777.308937  , 566443.31171587,\n",
       "       567109.41721747, 567775.62545235, 568441.93643107, 569108.35016421,\n",
       "       569774.86666232, 570441.48593597, 571108.20799573, 571775.03285215,\n",
       "       572441.9605158 , 573108.99099726, 573776.12430708, 574443.36045584,\n",
       "       575110.6994541 , 575778.14131244, 576445.68604141, 577113.33365159,\n",
       "       577781.08415355, 578448.93755786, 579116.89387509, 579784.95311582,\n",
       "       580453.11529061, 581121.38041003, 581789.74848467, 582458.2195251 ,\n",
       "       583126.79354188, 583795.4705456 , 584464.25054683, 585133.13355615,\n",
       "       585802.11958413, 586471.20864135, 587140.40073838, 587809.69588581,\n",
       "       588479.09409422, 589148.59537418, 589818.19973627, 590487.90719108,\n",
       "       591157.71774919, 591827.63142117, 592497.6482176 , 593167.76814908,\n",
       "       593837.99122619, 594508.3174595 , 595178.7468596 , 595849.27943709,\n",
       "       596519.91520253, 597190.65416652, 597861.49633965, 598532.44173249,\n",
       "       599203.49035565, 599874.6422197 , 600545.89733524, 601217.25571285,\n",
       "       601888.71736313, 602560.28229666, 603231.95052403, 603903.72205584,\n",
       "       604575.59690268, 605247.57507514, 605919.65658381, 606591.84143929,\n",
       "       607264.12965217, 607936.52123304])"
      ]
     },
     "execution_count": 24,
     "metadata": {},
     "output_type": "execute_result"
    }
   ],
   "source": [
    "infResult"
   ]
  },
  {
   "cell_type": "markdown",
   "metadata": {
    "id": "hd_PGw6K-ntA"
   },
   "source": [
    "# 6. 결론"
   ]
  },
  {
   "cell_type": "markdown",
   "metadata": {
    "id": "btGsA5Ka-ntB"
   },
   "source": [
    "2021년 기준 한국의 인구는 [51,821,669명](https://kosis.kr/statHtml/statHtml.do?orgId=101&tblId=DT_1BPA002&checkFlag=N)입니다. 이를 통해 1차 백신을 맞은 사람의 비율을 구하겠습니다."
   ]
  },
  {
   "cell_type": "code",
   "execution_count": 25,
   "metadata": {
    "colab": {
     "base_uri": "https://localhost:8080/"
    },
    "executionInfo": {
     "elapsed": 43,
     "status": "ok",
     "timestamp": 1622830517120,
     "user": {
      "displayName": "러리",
      "photoUrl": "https://lh3.googleusercontent.com/a-/AOh14GgiyW87GR11Bhn3mcw2smZocWsVWeRDnTWL71XV=s64",
      "userId": "00990509583653091448"
     },
     "user_tz": -540
    },
    "id": "aPaX4z7d-ntB",
    "outputId": "2edfc490-ab6e-476f-975b-6f81d5b5ca88",
    "scrolled": true
   },
   "outputs": [
    {
     "name": "stdout",
     "output_type": "stream",
     "text": [
      "인구의 70% 백신 접종 완료 시기 : 2022-08-12\n",
      "인구의 75% 백신 접종 완료 시기 : 2022-09-16\n",
      "인구의 80% 백신 접종 완료 시기 : 2022-10-21\n",
      "인구의 85% 백신 접종 완료 시기 : 2022-11-25\n",
      "인구의 90% 백신 접종 완료 시기 : 2022-12-29\n",
      "인구의 95% 백신 접종 완료 시기 : 2023-02-01\n"
     ]
    }
   ],
   "source": [
    "population = 51821669\n",
    "targetProportions = [0.7, 0.75, 0.8, 0.85, 0.9, 0.95]\n",
    "resultIndex = []\n",
    "findTarget = 0\n",
    "\n",
    "for idx, val in enumerate(pvResult):\n",
    "    if val >= population:\n",
    "        break\n",
    "    if val / population > targetProportions[findTarget]:\n",
    "        findTarget = findTarget + 1\n",
    "        resultIndex.append(idx)\n",
    "    if findTarget == len(targetProportions):\n",
    "        break\n",
    "\n",
    "today = datetime.datetime.now()\n",
    "for i in range(len(resultIndex)):\n",
    "    tmpDate = today + datetime.timedelta(days=resultIndex[i] + 1)\n",
    "    print('인구의 %d%% 백신 접종 완료 시기 : %s' % (int(targetProportions[i] * 100), tmpDate.strftime(\"%Y-%m-%d\")))"
   ]
  },
  {
   "cell_type": "markdown",
   "metadata": {
    "id": "rtOzCVyG-ntB"
   },
   "source": [
    "# 7. 참고문헌"
   ]
  },
  {
   "cell_type": "markdown",
   "metadata": {
    "id": "99IXoEzR-ntB"
   },
   "source": [
    "### 데이터 출처\n",
    "\n",
    "- 코로나19 발생 현황 : https://www.data.go.kr/data/15043378/openapi.do\n",
    "- 코로나19 예방접종 현황 : https://www.data.go.kr/data/15077756/openapi.do\n",
    "\n",
    "### 데이터 불러오기\n",
    "\n",
    "- datetime module : https://docs.python.org/ko/3/library/datetime.html\n",
    "    - 당일을 기준으로 최신 데이터를 불러오기 위해 사용\n",
    "\n",
    "### 데이터 가공\n",
    "\n",
    "- XML Parsing : https://docs.python.org/3/library/xml.etree.elementtree.html\n",
    "- JSON Parsing : https://docs.python.org/3/library/json.html\n",
    "\n",
    "### 데이터 분석\n",
    "\n",
    "- 파이썬 머신러닝 판다스 데이터 분석 : https://book.naver.com/bookdb/book_detail.nhn?bid=15028524\n",
    "- ARIMA 모델 : https://byeongkijeong.github.io/ARIMA-with-Python/"
   ]
  },
  {
   "cell_type": "markdown",
   "metadata": {
    "id": "vyLMRq4Y-ntC"
   },
   "source": [
    "# 8. 별첨: 획득한 데이터 원본"
   ]
  },
  {
   "cell_type": "markdown",
   "metadata": {
    "id": "au78Dfan-ntC"
   },
   "source": [
    "실행할 때 마다 불러오기 때문에 특정한 데이터 원본이 존재하지 않습니다."
   ]
  },
  {
   "cell_type": "markdown",
   "metadata": {
    "id": "XmNml8GK-ntC"
   },
   "source": [
    "# 9. 별첨: 가공된 데이터 원본"
   ]
  },
  {
   "cell_type": "markdown",
   "metadata": {
    "id": "x2-fdLXv-ntC"
   },
   "source": [
    "위에서 기술했듯이, 실행할 때 마다 데이터를 불러와서 가공을 하기 때문에 특정한 가공 데이터 원본이 존재하지 않습니다."
   ]
  },
  {
   "cell_type": "markdown",
   "metadata": {
    "id": "Cm54waAL-ntC"
   },
   "source": [
    "# 10. 변환 작업을 위한 파이썬 코드 원본"
   ]
  },
  {
   "cell_type": "markdown",
   "metadata": {
    "id": "p6A9-Hnl-ntC"
   },
   "source": [
    "위의 4번에서 처리하였습니다."
   ]
  }
 ],
 "metadata": {
  "colab": {
   "collapsed_sections": [
    "99IXoEzR-ntB"
   ],
   "name": "TermProject_2021105589.ipynb",
   "provenance": []
  },
  "kernelspec": {
   "display_name": "Python 3",
   "language": "python",
   "name": "python3"
  },
  "language_info": {
   "codemirror_mode": {
    "name": "ipython",
    "version": 3
   },
   "file_extension": ".py",
   "mimetype": "text/x-python",
   "name": "python",
   "nbconvert_exporter": "python",
   "pygments_lexer": "ipython3",
   "version": "3.7.9"
  }
 },
 "nbformat": 4,
 "nbformat_minor": 1
}
